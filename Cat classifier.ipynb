{
 "cells": [
  {
   "cell_type": "code",
   "execution_count": 1,
   "metadata": {},
   "outputs": [],
   "source": [
    "#imporing necessary libraries\n",
    "import numpy as np\n",
    "import pandas as pd\n",
    "import cv2\n",
    "from sklearn.model_selection import train_test_split"
   ]
  },
  {
   "cell_type": "code",
   "execution_count": 2,
   "metadata": {},
   "outputs": [],
   "source": [
    "#reading input images from folder\n",
    "image_list=[]\n",
    "for i in range(1,500):\n",
    "    img=cv2.imread(\"C:/Users/nagarjun/Desktop/datset/trail(cat)/cat.\"+str(i)+\".jpg\")\n",
    "    resized_image=cv2.resize(img,(64,64))\n",
    "    image_list.append(resized_image)\n",
    "for i in range(1,500):\n",
    "    img=cv2.imread(\"C:/Users/nagarjun/Desktop/datset/trail(dog)/dog.\"+str(i)+\".jpg\")\n",
    "    resized_image=cv2.resize(img,(64,64))\n",
    "    image_list.append(resized_image)"
   ]
  },
  {
   "cell_type": "code",
   "execution_count": 3,
   "metadata": {},
   "outputs": [],
   "source": [
    "#converting list of image date to numpy array\n",
    "X=np.array(image_list)"
   ]
  },
  {
   "cell_type": "code",
   "execution_count": 4,
   "metadata": {},
   "outputs": [],
   "source": [
    "# creating target column that is Y\n",
    "Y=[1 for i in range(0,499)]\n",
    "for i in range(0,499):\n",
    "    Y.append(0)"
   ]
  },
  {
   "cell_type": "code",
   "execution_count": 5,
   "metadata": {},
   "outputs": [],
   "source": [
    "# converting list to numpy array and reshaping \n",
    "Y=np.array(Y)\n",
    "Y=Y.reshape((len(Y),1))"
   ]
  },
  {
   "cell_type": "code",
   "execution_count": 6,
   "metadata": {},
   "outputs": [],
   "source": [
    "#splitting up of input data to train and test data\n",
    "X_train,X_test,Y_train,Y_test=train_test_split(X,Y,test_size=0.1,random_state=43)"
   ]
  },
  {
   "cell_type": "code",
   "execution_count": 7,
   "metadata": {},
   "outputs": [
    {
     "name": "stdout",
     "output_type": "stream",
     "text": [
      "(898, 64, 64, 3)\n",
      "(898, 1)\n",
      "(100, 64, 64, 3)\n",
      "(100, 1)\n"
     ]
    }
   ],
   "source": [
    "#printing shape of train and test data\n",
    "print(X_train.shape)\n",
    "print(Y_train.shape)\n",
    "print(X_test.shape)\n",
    "print(Y_test.shape)"
   ]
  },
  {
   "cell_type": "code",
   "execution_count": 9,
   "metadata": {},
   "outputs": [],
   "source": [
    "# transposing train and test data to fit to the model\n",
    "X_train=X_train.T\n",
    "X_test=X_test.T\n",
    "Y_train=Y_train.T\n",
    "Y_test=Y_test.T"
   ]
  },
  {
   "cell_type": "code",
   "execution_count": 10,
   "metadata": {},
   "outputs": [
    {
     "name": "stdout",
     "output_type": "stream",
     "text": [
      "(3, 64, 64, 898)\n",
      "(1, 898)\n",
      "(3, 64, 64, 100)\n",
      "(1, 100)\n"
     ]
    }
   ],
   "source": [
    "#After transposing the train and test data\n",
    "print(X_train.shape)\n",
    "print(Y_train.shape)\n",
    "print(X_test.shape)\n",
    "print(Y_test.shape)\n"
   ]
  },
  {
   "cell_type": "code",
   "execution_count": 11,
   "metadata": {},
   "outputs": [],
   "source": [
    "# for convent reshaping the image data to a flatten data\n",
    "X_train=X_train.reshape((64*64*3,X_train.shape[3]))\n",
    "X_test=X_test.reshape((64*64*3,X_test.shape[3]))"
   ]
  },
  {
   "cell_type": "code",
   "execution_count": 12,
   "metadata": {},
   "outputs": [
    {
     "name": "stdout",
     "output_type": "stream",
     "text": [
      "(12288, 898)\n",
      "(1, 898)\n",
      "(12288, 100)\n",
      "(1, 100)\n"
     ]
    }
   ],
   "source": [
    "# After flattening of data \n",
    "print(X_train.shape)\n",
    "print(Y_train.shape)\n",
    "print(X_test.shape)\n",
    "print(Y_test.shape)"
   ]
  },
  {
   "cell_type": "code",
   "execution_count": 13,
   "metadata": {},
   "outputs": [],
   "source": [
    "#to standardize the data\n",
    "X_train=X_train/255.\n",
    "X_test=X_test/255."
   ]
  },
  {
   "cell_type": "code",
   "execution_count": 14,
   "metadata": {},
   "outputs": [],
   "source": [
    "# binary classification activation function\n",
    "def sigmoid(z):\n",
    "    a=1/(1+np.exp(-z))\n",
    "    return a"
   ]
  },
  {
   "cell_type": "code",
   "execution_count": 15,
   "metadata": {},
   "outputs": [],
   "source": [
    "# initializeing the input, hidden and , output layers\n",
    "def layer_sizes(X, Y):\n",
    "    n_x = X.shape[0]\n",
    "    n_h1 = 10\n",
    "    n_h2=10\n",
    "    n_y = Y.shape[0] # size of output layer\n",
    "    return (n_x, n_h1,n_h2, n_y)"
   ]
  },
  {
   "cell_type": "code",
   "execution_count": 16,
   "metadata": {},
   "outputs": [
    {
     "name": "stdout",
     "output_type": "stream",
     "text": [
      "The size of the input layer is: n_x = 12288\n",
      "The size of the hidden layer 1 is: n_h = 10\n",
      "The size of the hidden layer 2 is: n_h = 10\n",
      "The size of the output layer is: n_y = 1\n"
     ]
    }
   ],
   "source": [
    "(n_x, n_h1,n_h2, n_y) = layer_sizes(X_train, Y_train)\n",
    "print(\"The size of the input layer is: n_x = \" + str(n_x))\n",
    "print(\"The size of the hidden layer 1 is: n_h = \" + str(n_h1))\n",
    "print(\"The size of the hidden layer 2 is: n_h = \" + str(n_h2))\n",
    "print(\"The size of the output layer is: n_y = \" + str(n_y))"
   ]
  },
  {
   "cell_type": "code",
   "execution_count": 17,
   "metadata": {},
   "outputs": [],
   "source": [
    "# initializing the weights randomly and bias to zero by considering shape of each layer\n",
    "def initialize_parameters(n_x, n_h1,n_h2, n_y):\n",
    "    W1 =np.random.randn(n_h1,n_x)\n",
    "    W1=W1/100\n",
    "    b1 =np.zeros(shape=(n_h1,1))\n",
    "    W2 =np.random.randn(n_h2,n_h1)\n",
    "    W2=W2/100\n",
    "    b2 =np.zeros(shape=(n_h2,1))\n",
    "    W3 = np.random.randn(n_y,n_h2)\n",
    "    W3=W3/100\n",
    "    b3 = np.zeros(shape=(n_y,1))\n",
    "    parameters = {\"W1\": W1,\n",
    "                  \"b1\": b1,\n",
    "                  \"W2\": W2,\n",
    "                  \"b2\": b2,\n",
    "                  \"W3\":W3,\n",
    "                  \"b3\":b3\n",
    "                 }\n",
    "    return parameters"
   ]
  },
  {
   "cell_type": "code",
   "execution_count": 18,
   "metadata": {},
   "outputs": [
    {
     "name": "stdout",
     "output_type": "stream",
     "text": [
      "W1 = [[ 0.00212122  0.00057178 -0.00742828 ... -0.00614358 -0.00645455\n",
      "  -0.00353545]\n",
      " [-0.00888065 -0.00298556 -0.00430568 ...  0.00771289  0.00314298\n",
      "   0.01008381]\n",
      " [ 0.00559851  0.01492402 -0.00169116 ...  0.00926967  0.00808662\n",
      "  -0.00784013]\n",
      " ...\n",
      " [-0.0034015  -0.00865336  0.00100751 ... -0.01090226 -0.00414439\n",
      "   0.00626191]\n",
      " [-0.0119882   0.01071509 -0.0071056  ... -0.00144498 -0.00092474\n",
      "  -0.00418934]\n",
      " [ 0.01921997 -0.00744919 -0.00298948 ... -0.00274046  0.01243944\n",
      "  -0.00798288]]\n",
      "b1 = [[0.]\n",
      " [0.]\n",
      " [0.]\n",
      " [0.]\n",
      " [0.]\n",
      " [0.]\n",
      " [0.]\n",
      " [0.]\n",
      " [0.]\n",
      " [0.]]\n",
      "W2 = [[ 0.00453243  0.02334634  0.00596356 -0.01015623 -0.00161819  0.00824381\n",
      "   0.00893739  0.00679375  0.00249501  0.01534315]\n",
      " [-0.01744768 -0.00599153  0.00297099 -0.00975569 -0.00459325 -0.005324\n",
      "   0.00629438 -0.00297468 -0.01108322 -0.01248622]\n",
      " [ 0.00434055 -0.00875919  0.00029159 -0.00025792  0.02007209  0.00201123\n",
      "   0.01483394 -0.00189709 -0.0090318  -0.00353304]\n",
      " [-0.00934368 -0.00123546 -0.00019848  0.01347554  0.0014232   0.00503808\n",
      "   0.01686061 -0.0116459  -0.01629545  0.00141571]\n",
      " [-0.00378576 -0.02121863  0.00353816 -0.00891926  0.00606813 -0.00641725\n",
      "   0.00198478  0.00885957 -0.01728809 -0.00809507]\n",
      " [-0.00692646  0.01186914 -0.02598367  0.01096142  0.00785581  0.00486051\n",
      "   0.00271528 -0.0114542  -0.0070494   0.01114467]\n",
      " [-0.0107432   0.00198763 -0.01442694  0.01113324 -0.00172009 -0.00160082\n",
      "  -0.01135997  0.00691255  0.01343315  0.00195081]\n",
      " [ 0.00860403  0.00941057  0.00287987  0.00550004 -0.0014486  -0.0144758\n",
      "  -0.00839271 -0.01882713  0.00419539 -0.00259448]\n",
      " [-0.00114602 -0.00224115  0.00721208 -0.00399295  0.00385886  0.01368528\n",
      "   0.00014944  0.00942675 -0.00775537  0.00263179]\n",
      " [ 0.02434846 -0.02105996 -0.0054228  -0.0087561   0.01220086 -0.01466741\n",
      "  -0.01082609 -0.00705423  0.00771261  0.00642891]]\n",
      "b2 = [[0.]\n",
      " [0.]\n",
      " [0.]\n",
      " [0.]\n",
      " [0.]\n",
      " [0.]\n",
      " [0.]\n",
      " [0.]\n",
      " [0.]\n",
      " [0.]]\n",
      "W3 = [[ 0.00824368 -0.00143737 -0.01674142 -0.00583866  0.02452778  0.00835228\n",
      "  -0.00820384  0.00540602 -0.00331012  0.00502619]]\n",
      "b3 = [[0.]]\n",
      "12.235685657929043\n",
      "0.010119365788289529\n",
      "0.0011885095335384564\n"
     ]
    }
   ],
   "source": [
    "parameters =initialize_parameters(X_train.shape[0], 10, 10, Y_train.shape[0])\n",
    "print(\"W1 = \" + str(parameters[\"W1\"]))\n",
    "print(\"b1 = \" + str(parameters[\"b1\"]))\n",
    "print(\"W2 = \" + str(parameters[\"W2\"]))\n",
    "print(\"b2 = \" + str(parameters[\"b2\"]))\n",
    "print(\"W3 = \" + str(parameters[\"W3\"]))\n",
    "print(\"b3 = \" + str(parameters[\"b3\"]))\n",
    "print(np.power(parameters['W1'],2).sum())\n",
    "print(np.power(parameters['W2'],2).sum())\n",
    "print(np.power(parameters['W3'],2).sum())"
   ]
  },
  {
   "cell_type": "code",
   "execution_count": 19,
   "metadata": {},
   "outputs": [
    {
     "name": "stdout",
     "output_type": "stream",
     "text": [
      "W1 = (10, 12288)\n",
      "b1 = (10, 1)\n",
      "W2 = (10, 10)\n",
      "b2 = (10, 1)\n",
      "W3 = (1, 10)\n",
      "b3 = (1, 1)\n"
     ]
    }
   ],
   "source": [
    "#printing shape of weight and bias arrays\n",
    "print(\"W1 = \" + str(parameters[\"W1\"].shape))\n",
    "print(\"b1 = \" + str(parameters[\"b1\"].shape))\n",
    "print(\"W2 = \" + str(parameters[\"W2\"].shape))\n",
    "print(\"b2 = \" + str(parameters[\"b2\"].shape))\n",
    "print(\"W3 = \" + str(parameters[\"W3\"].shape))\n",
    "print(\"b3 = \" + str(parameters[\"b3\"].shape))"
   ]
  },
  {
   "cell_type": "code",
   "execution_count": 20,
   "metadata": {},
   "outputs": [],
   "source": [
    "# forward propagation to compute each layer output and given that as input to next layer\n",
    "def forward_propagation(X, parameters):\n",
    "    W1 = parameters[\"W1\"]\n",
    "    b1 = parameters[\"b1\"]\n",
    "    W2 = parameters[\"W2\"]\n",
    "    b2 = parameters[\"b2\"]\n",
    "    W3 = parameters[\"W3\"]\n",
    "    b3 = parameters[\"b3\"]\n",
    "    Z1 = np.dot(W1,X)+b1\n",
    "    A1 = np.tanh(Z1)\n",
    "    Z2 = np.dot(W2,A1)+b2\n",
    "    A2 = np.tanh(Z2)\n",
    "    Z3=np.dot(W3,A2)+b3\n",
    "    A3=sigmoid(Z3)\n",
    "    cache = {\"Z1\": Z1,\n",
    "             \"A1\": A1,\n",
    "             \"Z2\": Z2,\n",
    "             \"A2\": A2,\n",
    "             \"Z3\":Z3,\n",
    "             \"A3\":A3\n",
    "            }\n",
    "    \n",
    "    return A3, cache"
   ]
  },
  {
   "cell_type": "code",
   "execution_count": 21,
   "metadata": {},
   "outputs": [],
   "source": [
    "A3, cache = forward_propagation(X_train, parameters)"
   ]
  },
  {
   "cell_type": "code",
   "execution_count": 22,
   "metadata": {},
   "outputs": [],
   "source": [
    "# Computing cost by considering last layer output from forward propagation\n",
    "def compute_cost(A3, Y, parameters,lamb):\n",
    "    m = Y.shape[1] \n",
    "    logprobs = np.multiply(np.log(A3),Y)+np.multiply((1-Y),np.log(1-A3))\n",
    "    l2_re=np.power(parameters['W1'],2).sum()+np.power(parameters['W2'],2).sum()+np.power(parameters['W3'],2).sum()\n",
    "    l2_sum=(lamb/(2*m))*l2_re\n",
    "    cost= (-np.sum(logprobs)/m)\n",
    "    cost = float(np.squeeze(cost)) \n",
    "    return cost"
   ]
  },
  {
   "cell_type": "code",
   "execution_count": 23,
   "metadata": {},
   "outputs": [
    {
     "name": "stdout",
     "output_type": "stream",
     "text": [
      "cost =  0.6931498280538929\n"
     ]
    }
   ],
   "source": [
    "cost=compute_cost(A3,Y_train,parameters,0.4)\n",
    "print(\"cost = \",cost)"
   ]
  },
  {
   "cell_type": "code",
   "execution_count": 24,
   "metadata": {},
   "outputs": [],
   "source": [
    "# Backpropagation used to compute gradients of each layers weights and bias\n",
    "def backward_propagation(parameters, cache, X, Y,lamb):\n",
    "\n",
    "    m = X.shape[1]\n",
    "    W1 = parameters['W1']\n",
    "    W2 = parameters['W2']\n",
    "    W3 = parameters['W3']\n",
    "    A1 = cache['A1']\n",
    "    A2 = cache['A2']\n",
    "    A3 = cache['A3']\n",
    "    dZ3=A3-Y\n",
    "    dW3=(1/m)*np.dot(dZ3,A2.T)+((lamb/m)*parameters['W3'].sum())\n",
    "    db3 = (1/m)*np.sum(dZ3,axis=1,keepdims=True) \n",
    "    dZ2 = np.multiply(np.dot(W3.T,dZ3),(1-np.power(A2,2)))\n",
    "    dW2 = (1/m)*np.dot(dZ2,A1.T)+((lamb/m)*parameters['W2'].sum())\n",
    "    db2 = (1/m)*np.sum(dZ2,axis=1,keepdims=True)\n",
    "    dZ1 = np.multiply(np.dot(W2.T,dZ2),(1-np.power(A1,2)))\n",
    "    dW1 = (1/m)*np.dot(dZ1,X.T)+((lamb/m)*parameters['W1'].sum())\n",
    "    db1 = (1/m)*np.sum(dZ1,axis=1,keepdims=True)    \n",
    "    grads = {\"dW1\": dW1,\n",
    "             \"db1\": db1,\n",
    "             \"dW2\": dW2,\n",
    "             \"db2\": db2,\n",
    "             \"dW3\":dW3,\n",
    "             \"db3\":db3\n",
    "            }\n",
    "    \n",
    "    return grads"
   ]
  },
  {
   "cell_type": "code",
   "execution_count": 25,
   "metadata": {},
   "outputs": [
    {
     "name": "stdout",
     "output_type": "stream",
     "text": [
      "dW1 = [[0.00073537 0.00073526 0.00073541 ... 0.00073474 0.00073479 0.00073478]\n",
      " [0.00073466 0.00073472 0.00073467 ... 0.00073495 0.00073496 0.00073496]\n",
      " [0.00073481 0.00073481 0.00073481 ... 0.00073482 0.00073482 0.00073482]\n",
      " ...\n",
      " [0.00073491 0.00073488 0.00073492 ... 0.00073481 0.0007348  0.0007348 ]\n",
      " [0.00073439 0.00073454 0.00073433 ... 0.00073501 0.00073498 0.00073496]\n",
      " [0.00073471 0.0007346  0.00073466 ... 0.00073453 0.00073449 0.0007345 ]]\n",
      "db1 = [[ 2.84645936e-07]\n",
      " [-7.40396673e-08]\n",
      " [ 1.23860143e-09]\n",
      " [ 6.43505270e-07]\n",
      " [-1.07131871e-07]\n",
      " [-5.79914141e-07]\n",
      " [-1.25869181e-07]\n",
      " [ 2.33253327e-07]\n",
      " [-3.78953056e-07]\n",
      " [-2.48047993e-07]]\n",
      "dW2 = [[ 6.80600810e-06 -8.90170275e-06  1.26979851e-05 -6.98833384e-05\n",
      "  -2.39813507e-05  1.15351753e-05 -3.81760672e-05 -2.98743876e-07\n",
      "  -2.94264989e-05 -6.30919839e-05]\n",
      " [-1.73025489e-05 -1.45649891e-05 -1.83298266e-05 -3.92738224e-06\n",
      "  -1.19323980e-05 -1.81273437e-05 -9.45840523e-06 -1.60639307e-05\n",
      "  -1.09827581e-05 -5.11295547e-06]\n",
      " [-5.54150758e-05 -2.35309110e-05 -6.73847611e-05  1.00360734e-04\n",
      "   7.11854291e-06 -6.50280320e-05  3.59432481e-05 -4.09968829e-05\n",
      "   1.81798342e-05  8.65599234e-05]\n",
      " [-2.82552319e-05 -1.71355369e-05 -3.24229519e-05  2.60580305e-05\n",
      "  -6.45408132e-06 -3.16127250e-05  3.58984164e-06 -2.32257144e-05\n",
      "  -2.59429472e-06  2.12423282e-05]\n",
      " [ 4.73733258e-05  6.70576262e-07  6.49083240e-05 -1.80860448e-04\n",
      "  -4.42611629e-05  6.14541168e-05 -8.64820903e-05  2.62459225e-05\n",
      "  -6.04621119e-05 -1.60645776e-04]\n",
      " [ 7.02952344e-06 -8.84895971e-06  1.29931669e-05 -7.05671043e-05\n",
      "  -2.40947157e-05  1.18133401e-05 -3.84645229e-05 -1.29888686e-07\n",
      "  -2.96282137e-05 -6.36771647e-05]\n",
      " [-3.41454489e-05 -1.85223045e-05 -3.99996388e-05  4.21635110e-05\n",
      "  -3.50723810e-06 -3.88539763e-05  1.06232262e-05 -2.70751803e-05\n",
      "   1.90422233e-06  3.53912435e-05]\n",
      " [-2.57737383e-07 -1.05540004e-05  3.60637131e-06 -5.05605441e-05\n",
      "  -2.04523412e-05  2.84485302e-06 -2.97599318e-05 -4.91659592e-06\n",
      "  -2.40251536e-05 -4.61032944e-05]\n",
      " [-2.19683501e-05 -1.56616687e-05 -2.43307437e-05  8.82717923e-06\n",
      "  -9.60166114e-06 -2.38630183e-05 -3.90278450e-06 -1.91139523e-05\n",
      "  -7.41460291e-06  6.10193532e-06]\n",
      " [-1.20098309e-06 -1.07803115e-05  2.38942233e-06 -4.79554442e-05\n",
      "  -1.99733544e-05  1.66891076e-06 -2.86329525e-05 -5.53376299e-06\n",
      "  -2.32960407e-05 -4.38211047e-05]]\n",
      "db2 = [[ 1.83795403e-05]\n",
      " [-3.20566736e-06]\n",
      " [-3.73349239e-05]\n",
      " [-1.30041325e-05]\n",
      " [ 5.47177256e-05]\n",
      " [ 1.85515746e-05]\n",
      " [-1.82722588e-05]\n",
      " [ 1.20561144e-05]\n",
      " [-7.37934222e-06]\n",
      " [ 1.12052056e-05]]\n",
      "dW2 = [[ 3.38186380e-05  9.61898333e-05 -1.38267949e-05 -1.43842249e-04\n",
      "   1.18371671e-04 -2.37752243e-04 -1.37426843e-04 -3.67424682e-05\n",
      "   1.02585514e-04  3.22193933e-06]]\n",
      "db2 = [[0.00223176]]\n"
     ]
    }
   ],
   "source": [
    "grads = backward_propagation(parameters, cache, X_train, Y_train,lamb=0.3)\n",
    "print (\"dW1 = \"+ str(grads[\"dW1\"]))\n",
    "print (\"db1 = \"+ str(grads[\"db1\"]))\n",
    "print (\"dW2 = \"+ str(grads[\"dW2\"]))\n",
    "print (\"db2 = \"+ str(grads[\"db2\"]))\n",
    "print (\"dW2 = \"+ str(grads[\"dW3\"]))\n",
    "print (\"db2 = \"+ str(grads[\"db3\"]))"
   ]
  },
  {
   "cell_type": "code",
   "execution_count": 26,
   "metadata": {},
   "outputs": [],
   "source": [
    "# Updating the the weights and bias by considering learning rate and gradients\n",
    "def update_parameters(parameters, grads,alpha):\n",
    "    \n",
    "    W1 = parameters['W1']\n",
    "    b1 = parameters['b1']\n",
    "    W2 = parameters['W2']\n",
    "    b2 = parameters['b2']\n",
    "    W3 = parameters['W3']\n",
    "    b3 = parameters['b3']\n",
    "\n",
    "    dW1 = grads['dW1']\n",
    "    db1 = grads['db1']\n",
    "    dW2 = grads['dW2']\n",
    "    db2 = grads['db2']\n",
    "    dW3 = grads['dW3']\n",
    "    db3 = grads['db3']\n",
    " \n",
    "    W1 = W1-alpha*dW1\n",
    "    b1 = b1-alpha*db1\n",
    "    W2 = W2-alpha*dW2\n",
    "    b2 = b2-alpha*db2\n",
    "    W3 = W3-alpha*dW3\n",
    "    b3 = b3-alpha*db3\n",
    "    \n",
    "    parameters = {\"W1\": W1,\n",
    "                  \"b1\": b1,\n",
    "                  \"W2\": W2,\n",
    "                  \"b2\": b2,\n",
    "                  \"W3\":W3,\n",
    "                  \"b3\":b3\n",
    "                 }\n",
    "    \n",
    "    return parameters"
   ]
  },
  {
   "cell_type": "code",
   "execution_count": 27,
   "metadata": {},
   "outputs": [
    {
     "name": "stdout",
     "output_type": "stream",
     "text": [
      "W1 = [[ 0.00211902  0.00056958 -0.00743049 ... -0.00614579 -0.00645675\n",
      "  -0.00353765]\n",
      " [-0.00888285 -0.00298776 -0.00430789 ...  0.00771069  0.00314078\n",
      "   0.01008161]\n",
      " [ 0.0055963   0.01492182 -0.00169336 ...  0.00926746  0.00808442\n",
      "  -0.00784234]\n",
      " ...\n",
      " [-0.00340371 -0.00865556  0.0010053  ... -0.01090447 -0.0041466\n",
      "   0.0062597 ]\n",
      " [-0.01199041  0.01071289 -0.00710781 ... -0.00144718 -0.00092695\n",
      "  -0.00419154]\n",
      " [ 0.01921777 -0.00745139 -0.00299168 ... -0.00274267  0.01243723\n",
      "  -0.00798508]]\n",
      "b1 = [[-8.53937807e-10]\n",
      " [ 2.22119002e-10]\n",
      " [-3.71580428e-12]\n",
      " [-1.93051581e-09]\n",
      " [ 3.21395613e-10]\n",
      " [ 1.73974242e-09]\n",
      " [ 3.77607542e-10]\n",
      " [-6.99759982e-10]\n",
      " [ 1.13685917e-09]\n",
      " [ 7.44143980e-10]]\n",
      "W2 = [[ 0.00453241  0.02334637  0.00596352 -0.01015602 -0.00161812  0.00824378\n",
      "   0.00893751  0.00679375  0.0024951   0.01534334]\n",
      " [-0.01744763 -0.00599149  0.00297104 -0.00975568 -0.00459321 -0.00532395\n",
      "   0.00629441 -0.00297463 -0.01108319 -0.0124862 ]\n",
      " [ 0.00434072 -0.00875912  0.00029179 -0.00025822  0.02007207  0.00201143\n",
      "   0.01483384 -0.00189697 -0.00903185 -0.0035333 ]\n",
      " [-0.00934359 -0.00123541 -0.00019838  0.01347546  0.00142322  0.00503818\n",
      "   0.01686059 -0.01164583 -0.01629545  0.00141565]\n",
      " [-0.0037859  -0.02121864  0.00353797 -0.00891872  0.00606827 -0.00641744\n",
      "   0.00198504  0.0088595  -0.01728791 -0.00809459]\n",
      " [-0.00692648  0.01186916 -0.02598371  0.01096163  0.00785588  0.00486047\n",
      "   0.00271539 -0.0114542  -0.00704931  0.01114486]\n",
      " [-0.0107431   0.00198769 -0.01442682  0.01113312 -0.00172008 -0.0016007\n",
      "  -0.01136     0.00691263  0.01343314  0.00195071]\n",
      " [ 0.00860403  0.0094106   0.00287986  0.00550019 -0.00144854 -0.01447581\n",
      "  -0.00839262 -0.01882712  0.00419546 -0.00259434]\n",
      " [-0.00114596 -0.0022411   0.00721215 -0.00399298  0.00385888  0.01368535\n",
      "   0.00014945  0.0094268  -0.00775535  0.00263177]\n",
      " [ 0.02434847 -0.02105992 -0.00542281 -0.00875596  0.01220092 -0.01466742\n",
      "  -0.010826   -0.00705422  0.00771268  0.00642905]]\n",
      "b2 = [[-5.51386209e-08]\n",
      " [ 9.61700208e-09]\n",
      " [ 1.12004772e-07]\n",
      " [ 3.90123975e-08]\n",
      " [-1.64153177e-07]\n",
      " [-5.56547239e-08]\n",
      " [ 5.48167765e-08]\n",
      " [-3.61683432e-08]\n",
      " [ 2.21380267e-08]\n",
      " [-3.36156168e-08]]\n"
     ]
    }
   ],
   "source": [
    "parameters = update_parameters(parameters, grads,alpha=0.003)\n",
    "print(\"W1 = \" + str(parameters[\"W1\"]))\n",
    "print(\"b1 = \" + str(parameters[\"b1\"]))\n",
    "print(\"W2 = \" + str(parameters[\"W2\"]))\n",
    "print(\"b2 = \" + str(parameters[\"b2\"]))"
   ]
  },
  {
   "cell_type": "code",
   "execution_count": 28,
   "metadata": {},
   "outputs": [],
   "source": [
    "# Final model with all function call\n",
    "def model(X, Y, n_h1,n_h2, num_iterations,alpha,lamb, print_cost=False):\n",
    "    parameters =initialize_parameters(X.shape[0],n_h1,n_h2,Y.shape[0])\n",
    "    costs=[]\n",
    "    for i in range(0, num_iterations+1):\n",
    "        A3, cache = forward_propagation(X, parameters)\n",
    "        cost = compute_cost(A3,Y,parameters,lamb)\n",
    "        grads = backward_propagation(parameters, cache, X, Y,lamb)\n",
    "        parameters = update_parameters(parameters, grads,alpha)        \n",
    "        if print_cost and i % 100 == 0:\n",
    "            costs.append(cost)\n",
    "            #print (\"Cost after 100 iteration\")\n",
    "            print(\"cost after iteration \"+str(i)+\" is \",cost)\n",
    "    return parameters,costs"
   ]
  },
  {
   "cell_type": "code",
   "execution_count": 140,
   "metadata": {
    "scrolled": false
   },
   "outputs": [
    {
     "name": "stdout",
     "output_type": "stream",
     "text": [
      "cost after iteration 0 is  0.6931498242594425\n",
      "cost after iteration 100 is  0.6931426118986993\n",
      "cost after iteration 200 is  0.6931381081276424\n",
      "cost after iteration 300 is  0.6931347285681302\n",
      "cost after iteration 400 is  0.6931320130972348\n",
      "cost after iteration 500 is  0.6931296822976025\n",
      "cost after iteration 600 is  0.6931275648714167\n",
      "cost after iteration 700 is  0.6931255541752748\n",
      "cost after iteration 800 is  0.6931235821274094\n",
      "cost after iteration 900 is  0.6931216035202774\n",
      "cost after iteration 1000 is  0.6931195865654085\n",
      "cost after iteration 1100 is  0.6931175071691931\n",
      "cost after iteration 1200 is  0.6931153454392384\n",
      "cost after iteration 1300 is  0.693113083520453\n",
      "cost after iteration 1400 is  0.6931107042191271\n",
      "cost after iteration 1500 is  0.6931081900883057\n",
      "cost after iteration 1600 is  0.6931055227763558\n",
      "cost after iteration 1700 is  0.6931026825173354\n",
      "cost after iteration 1800 is  0.6930996476872708\n",
      "cost after iteration 1900 is  0.693096394377086\n",
      "cost after iteration 2000 is  0.6930928959481215\n",
      "cost after iteration 2100 is  0.693089122544299\n",
      "cost after iteration 2200 is  0.6930850405386165\n",
      "cost after iteration 2300 is  0.693080611892302\n",
      "cost after iteration 2400 is  0.6930757934033687\n",
      "cost after iteration 2500 is  0.6930705358179092\n",
      "cost after iteration 2600 is  0.6930647827722697\n",
      "cost after iteration 2700 is  0.6930584695271131\n",
      "cost after iteration 2800 is  0.693051521444914\n",
      "cost after iteration 2900 is  0.6930438521500717\n",
      "cost after iteration 3000 is  0.6930353612946886\n",
      "cost after iteration 3100 is  0.6930259318319952\n",
      "cost after iteration 3200 is  0.6930154266717775\n",
      "cost after iteration 3300 is  0.6930036845557497\n",
      "cost after iteration 3400 is  0.6929905149426008\n",
      "cost after iteration 3500 is  0.6929756916281574\n",
      "cost after iteration 3600 is  0.6929589447399225\n",
      "cost after iteration 3700 is  0.6929399506288489\n",
      "cost after iteration 3800 is  0.6929183190228027\n",
      "cost after iteration 3900 is  0.6928935765887767\n",
      "cost after iteration 4000 is  0.6928651457497425\n",
      "cost after iteration 4100 is  0.6928323171806097\n",
      "cost after iteration 4200 is  0.692794213811995\n",
      "cost after iteration 4300 is  0.6927497433196332\n",
      "cost after iteration 4400 is  0.6926975348501649\n",
      "cost after iteration 4500 is  0.692635853948104\n",
      "cost after iteration 4600 is  0.6925624870261045\n",
      "cost after iteration 4700 is  0.6924745828333977\n",
      "cost after iteration 4800 is  0.6923684325585042\n",
      "cost after iteration 4900 is  0.6922391614042434\n",
      "cost after iteration 5000 is  0.6920802910522429\n",
      "cost after iteration 5100 is  0.691883111841686\n",
      "cost after iteration 5200 is  0.6916357718352876\n",
      "cost after iteration 5300 is  0.6913219414237128\n",
      "cost after iteration 5400 is  0.6909188383680634\n",
      "cost after iteration 5500 is  0.6903942884335755\n",
      "cost after iteration 5600 is  0.6897023416660655\n",
      "cost after iteration 5700 is  0.6887767706734655\n",
      "cost after iteration 5800 is  0.6875216075658702\n",
      "cost after iteration 5900 is  0.685797934612316\n",
      "cost after iteration 6000 is  0.6834069227310032\n",
      "cost after iteration 6100 is  0.6800715133074966\n",
      "cost after iteration 6200 is  0.6754239816973047\n",
      "cost after iteration 6300 is  0.6690119643766324\n",
      "cost after iteration 6400 is  0.6603317178772037\n",
      "cost after iteration 6500 is  0.6488725051357868\n",
      "cost after iteration 6600 is  0.6341402292814559\n",
      "cost after iteration 6700 is  0.6156840840457376\n",
      "cost after iteration 6800 is  0.5967766109498948\n",
      "cost after iteration 6900 is  0.5970604681012172\n",
      "cost after iteration 7000 is  0.5822209800904884\n",
      "cost after iteration 7100 is  0.5642340006709797\n",
      "cost after iteration 7200 is  0.541782981004878\n",
      "cost after iteration 7300 is  0.5611867027780305\n",
      "cost after iteration 7400 is  0.5533535456685511\n",
      "cost after iteration 7500 is  0.5137036832873241\n",
      "cost after iteration 7600 is  0.5125661905904059\n",
      "cost after iteration 7700 is  0.5224290960137515\n",
      "cost after iteration 7800 is  0.5616236840419992\n",
      "cost after iteration 7900 is  0.5491952990286101\n",
      "cost after iteration 8000 is  0.5445392711206879\n",
      "cost after iteration 8100 is  0.5464626049562752\n",
      "cost after iteration 8200 is  0.5257370184083147\n",
      "cost after iteration 8300 is  0.5359524583747852\n",
      "cost after iteration 8400 is  0.5161982043487031\n",
      "cost after iteration 8500 is  0.5211499669215435\n",
      "cost after iteration 8600 is  0.49219227214074673\n",
      "cost after iteration 8700 is  0.5008016748912074\n",
      "cost after iteration 8800 is  0.35216583018048336\n",
      "cost after iteration 8900 is  0.41247041382317967\n",
      "cost after iteration 9000 is  0.48373853824340685\n",
      "cost after iteration 9100 is  0.34838349809083025\n",
      "cost after iteration 9200 is  0.27322228824195466\n",
      "cost after iteration 9300 is  0.2582536588099815\n",
      "cost after iteration 9400 is  0.20360251512728555\n",
      "cost after iteration 9500 is  0.17527456587864584\n",
      "cost after iteration 9600 is  0.25686856330860924\n",
      "cost after iteration 9700 is  0.4937193950156915\n",
      "cost after iteration 9800 is  0.19101175743474944\n",
      "cost after iteration 9900 is  0.29447122122628344\n",
      "cost after iteration 10000 is  0.17710067584853564\n",
      "cost after iteration 10100 is  0.6465278495407024\n",
      "cost after iteration 10200 is  0.1387297604627265\n",
      "cost after iteration 10300 is  0.17009352384854548\n",
      "cost after iteration 10400 is  0.14093510548800367\n",
      "cost after iteration 10500 is  0.1638448334834752\n",
      "cost after iteration 10600 is  0.1068485945375787\n",
      "cost after iteration 10700 is  0.07984758553175596\n",
      "cost after iteration 10800 is  0.06931755089081555\n",
      "cost after iteration 10900 is  0.05546224910674719\n",
      "cost after iteration 11000 is  0.042881790904533534\n",
      "cost after iteration 11100 is  0.7362399795206772\n",
      "cost after iteration 11200 is  0.11194553458131337\n",
      "cost after iteration 11300 is  0.11826813286496358\n",
      "cost after iteration 11400 is  0.034429454085832444\n",
      "cost after iteration 11500 is  0.027131484938349902\n",
      "cost after iteration 11600 is  0.023519216437405736\n",
      "cost after iteration 11700 is  0.020097413788923307\n",
      "cost after iteration 11800 is  0.017422035157636434\n",
      "cost after iteration 11900 is  0.015522981247356824\n",
      "cost after iteration 12000 is  0.014122837625852536\n",
      "cost after iteration 12100 is  0.013000878791556383\n",
      "cost after iteration 12200 is  0.012049329082398648\n",
      "cost after iteration 12300 is  0.011223195593418651\n",
      "cost after iteration 12400 is  0.010498082188038865\n",
      "cost after iteration 12500 is  0.009856492462616492\n",
      "cost after iteration 12600 is  0.00928485952332979\n",
      "cost after iteration 12700 is  0.008772438314747366\n",
      "cost after iteration 12800 is  0.008310592314786942\n",
      "cost after iteration 12900 is  0.007892291599512184\n",
      "cost after iteration 13000 is  0.007511751298093708\n",
      "cost after iteration 13100 is  0.007164165421119747\n",
      "cost after iteration 13200 is  0.006845507168747406\n",
      "cost after iteration 13300 is  0.006552376720796367\n",
      "cost after iteration 13400 is  0.006281883634714981\n",
      "cost after iteration 13500 is  0.006031554899305717\n",
      "cost after iteration 13600 is  0.00579926228580716\n",
      "cost after iteration 13700 is  0.005583164399124643\n",
      "cost after iteration 13800 is  0.005381660054268831\n",
      "cost after iteration 13900 is  0.005193350467055244\n",
      "cost after iteration 14000 is  0.0050170083685950025\n",
      "cost after iteration 14100 is  0.004851552604926223\n",
      "cost after iteration 14200 is  0.004696027116230834\n",
      "cost after iteration 14300 is  0.004549583438403302\n",
      "cost after iteration 14400 is  0.004411466056752553\n",
      "cost after iteration 14500 is  0.004281000083786226\n",
      "cost after iteration 14600 is  0.004157580842039603\n",
      "cost after iteration 14700 is  0.004040665017179643\n",
      "cost after iteration 14800 is  0.003929763112244713\n",
      "cost after iteration 14900 is  0.0038244329853575217\n",
      "cost after iteration 15000 is  0.0037242742938928524\n",
      "cost after iteration 15100 is  0.0036289237003732508\n",
      "cost after iteration 15200 is  0.0035380507211737644\n",
      "cost after iteration 15300 is  0.003451354119857258\n",
      "cost after iteration 15400 is  0.003368558763719397\n",
      "cost after iteration 15500 is  0.0032894128757287215\n",
      "cost after iteration 15600 is  0.0032136856251490974\n",
      "cost after iteration 15700 is  0.003141165009230293\n",
      "cost after iteration 15800 is  0.003071655985842286\n",
      "cost after iteration 15900 is  0.003004978823119623\n",
      "cost after iteration 16000 is  0.0029409676373196433\n",
      "cost after iteration 16100 is  0.0028794690943777287\n",
      "cost after iteration 16200 is  0.0028203412542205314\n",
      "cost after iteration 16300 is  0.0027634525398997937\n",
      "cost after iteration 16400 is  0.002708680816135685\n",
      "cost after iteration 16500 is  0.0026559125639923574\n",
      "cost after iteration 16600 is  0.0026050421402157367\n",
      "cost after iteration 16700 is  0.0025559711112989685\n",
      "cost after iteration 16800 is  0.002508607653649315\n",
      "cost after iteration 16900 is  0.0024628660123483933\n",
      "cost after iteration 17000 is  0.0024186660119548216\n",
      "cost after iteration 17100 is  0.002375932613621446\n",
      "cost after iteration 17200 is  0.00233459551350726\n",
      "cost after iteration 17300 is  0.0022945887780755794\n",
      "cost after iteration 17400 is  0.002255850512399025\n",
      "cost after iteration 17500 is  0.002218322558050322\n",
      "cost after iteration 17600 is  0.0021819502175568395\n",
      "cost after iteration 17700 is  0.0021466820027435415\n",
      "cost after iteration 17800 is  0.0021124694045922413\n",
      "cost after iteration 17900 is  0.0020792666825099047\n",
      "cost after iteration 18000 is  0.0020470306711307352\n",
      "cost after iteration 18100 is  0.0020157206029806584\n",
      "cost after iteration 18200 is  0.0019852979455120944\n",
      "cost after iteration 18300 is  0.0019557262511744945\n",
      "cost after iteration 18400 is  0.0019269710193257985\n",
      "cost after iteration 18500 is  0.001898999568913035\n",
      "cost after iteration 18600 is  0.0018717809209593383\n",
      "cost after iteration 18700 is  0.0018452856899915041\n",
      "cost after iteration 18800 is  0.0018194859836282717\n",
      "cost after iteration 18900 is  0.001794355309625826\n",
      "cost after iteration 19000 is  0.0017698684897454052\n",
      "cost after iteration 19100 is  0.0017460015798685961\n",
      "cost after iteration 19200 is  0.0017227317958404085\n",
      "cost after iteration 19300 is  0.0017000374445688003\n",
      "cost after iteration 19400 is  0.0016778978599529264\n",
      "cost after iteration 19500 is  0.00165629334325167\n",
      "cost after iteration 19600 is  0.0016352051075389853\n",
      "cost after iteration 19700 is  0.0016146152259244072\n",
      "cost after iteration 19800 is  0.0015945065832454514\n",
      "cost after iteration 19900 is  0.0015748628309643715\n",
      "cost after iteration 20000 is  0.0015556683450250052\n",
      "W1 = [[-0.00011903  0.00636859 -0.00324586 ... -0.02685062  0.00067157\n",
      "  -0.0164231 ]\n",
      " [-0.00330959  0.01922119 -0.01123125 ... -0.00324946  0.0136281\n",
      "   0.00494208]\n",
      " [-0.00495291  0.01053941  0.0204995  ...  0.00861625 -0.01317142\n",
      "   0.00530233]\n",
      " ...\n",
      " [-0.0064979  -0.00643954  0.00576795 ...  0.0086662   0.01636308\n",
      "  -0.01361686]\n",
      " [-0.00191455  0.00051389 -0.00079841 ... -0.00243773 -0.00998033\n",
      "   0.00534885]\n",
      " [-0.01992496 -0.01552805  0.00220639 ...  0.00836881  0.00456892\n",
      "   0.01172881]]\n",
      "b1 = [[ 2.08213475e-02]\n",
      " [ 1.37156118e-02]\n",
      " [ 1.76671144e-05]\n",
      " [-8.93524137e-03]\n",
      " [ 8.10925649e-03]\n",
      " [ 8.02271137e-03]\n",
      " [ 9.58564130e-03]\n",
      " [-7.12148092e-03]\n",
      " [ 1.50334534e-02]\n",
      " [ 7.05155887e-03]\n",
      " [ 5.28334228e-03]\n",
      " [-4.16373011e-02]\n",
      " [-1.92137610e-02]\n",
      " [ 1.30248048e-02]\n",
      " [ 5.08654113e-03]\n",
      " [-1.21137260e-03]\n",
      " [ 5.23046979e-03]\n",
      " [ 1.47111170e-03]\n",
      " [ 1.04456035e-02]\n",
      " [ 1.86613152e-02]]\n",
      "W2 = [[-4.45044618e-02 -2.66749164e-02  1.31448686e-02 -1.34668739e-02\n",
      "   4.42650248e-03  1.89595213e-02  2.39900361e-03 -2.98232967e-02\n",
      "   7.05794694e-03 -1.43919271e-02 -4.99433574e-03 -2.19658955e-02\n",
      "   2.19340843e-02  1.30259659e-02 -1.64730508e-02 -4.29735859e-02\n",
      "   1.86672779e-02  1.64201797e-04 -1.71074505e-02 -2.88749278e-03]\n",
      " [-1.26417989e-01 -1.23032760e-01  1.16645086e-01 -1.52375242e-01\n",
      "   3.68762735e-02  3.00856042e-02  3.68192870e-02 -1.38928421e-01\n",
      "   5.07983288e-02 -7.51574745e-02  1.01721651e-02 -1.09087184e-01\n",
      "   1.10560130e-01  5.24509798e-02  3.75835689e-03 -9.29368381e-02\n",
      "   1.25750149e-01  2.51996766e-03 -1.12794116e-01  1.08965387e-01]\n",
      " [ 1.60901952e-01  1.70727962e-01 -1.62184262e-01  1.72567394e-01\n",
      "  -3.29596813e-02 -4.40464447e-02 -4.07976619e-02  1.76088072e-01\n",
      "  -8.18225822e-02  8.76547240e-02 -2.14525432e-02  1.45873235e-01\n",
      "  -1.70931801e-01 -5.44585564e-02  9.33199254e-03  8.80083963e-02\n",
      "  -1.30664875e-01 -1.03543513e-02  1.30214423e-01 -1.10499967e-01]\n",
      " [-8.77716895e-02 -8.54525080e-02  8.83020218e-02 -9.01933564e-02\n",
      "   1.03149679e-02  3.71514081e-03  1.15408561e-02 -7.58204462e-02\n",
      "   4.61109960e-02 -3.97864308e-02  7.86888263e-03 -7.17232386e-02\n",
      "   6.39812685e-02  1.00774714e-02 -1.91746025e-02 -3.95633515e-02\n",
      "   5.60591304e-02 -2.42461396e-02 -6.78573824e-02  5.01429471e-02]\n",
      " [ 8.93723693e-02  8.59807395e-02 -8.68669916e-02  9.23405625e-02\n",
      "  -2.58201342e-02 -2.54710176e-02 -2.18629787e-02  1.00357524e-01\n",
      "  -4.24584850e-02  6.18234707e-02 -1.82058816e-02  7.55691100e-02\n",
      "  -8.33118446e-02 -3.64078194e-02 -7.88541475e-03  5.29516868e-02\n",
      "  -5.63655248e-02 -4.98982896e-04  6.11091169e-02 -5.05147265e-02]\n",
      " [-3.73604573e-01 -3.87564038e-01  3.57677784e-01 -4.17554640e-01\n",
      "   1.01162607e-01  6.86506774e-02  1.12047149e-01 -4.00494053e-01\n",
      "   1.96229285e-01 -1.78870016e-01  2.66952686e-02 -3.28311913e-01\n",
      "   3.51430398e-01  1.41884185e-01 -2.05247873e-02 -2.51365744e-01\n",
      "   2.72364404e-01  8.73400284e-03 -2.94204298e-01  2.83173827e-01]\n",
      " [-3.48914790e-01 -3.75927874e-01  3.46442822e-01 -4.10680326e-01\n",
      "   9.72850203e-02  7.37321588e-02  1.02769413e-01 -3.64175194e-01\n",
      "   1.78317198e-01 -1.84179383e-01  2.63110738e-02 -3.11067529e-01\n",
      "   3.31904422e-01  1.37074489e-01 -3.42918418e-02 -2.22568643e-01\n",
      "   2.53041851e-01  5.10487235e-03 -2.89732872e-01  2.77365010e-01]\n",
      " [ 2.85471400e-01  3.16905029e-01 -2.86084615e-01  3.23681086e-01\n",
      "  -7.30139017e-02 -7.28793182e-02 -8.25573584e-02  2.94105617e-01\n",
      "  -1.48000396e-01  1.59862749e-01 -2.88604652e-02  2.59819350e-01\n",
      "  -2.71237638e-01 -1.16646540e-01  1.80370197e-02  1.82664695e-01\n",
      "  -2.28615789e-01 -1.63262522e-02  2.35826514e-01 -2.33496686e-01]\n",
      " [ 2.27405487e-02  2.16809728e-02 -3.00237427e-02  3.88513375e-02\n",
      "  -1.54670799e-02 -4.84002422e-03 -2.79701233e-02  2.94973735e-02\n",
      "  -2.51347124e-02  2.72353659e-03 -1.20039322e-02  2.52899345e-02\n",
      "  -4.02500941e-02 -1.58899463e-02 -1.13842159e-02  2.50833807e-02\n",
      "  -3.64856331e-02  1.25374274e-02  3.14855454e-02 -1.72908298e-02]\n",
      " [ 2.28287940e-01  2.50456381e-01 -2.37987582e-01  2.47468656e-01\n",
      "  -6.66781455e-02 -4.47308559e-02 -8.89925761e-02  2.55415910e-01\n",
      "  -1.28977345e-01  1.21651002e-01 -2.33320748e-02  1.90636200e-01\n",
      "  -2.29145442e-01 -8.29291397e-02  1.74886319e-02  1.57819615e-01\n",
      "  -1.80908868e-01 -1.18283726e-02  1.84104331e-01 -2.00945036e-01]\n",
      " [ 1.53372760e-01  1.69544709e-01 -1.64844403e-01  1.82721404e-01\n",
      "  -4.92680136e-02 -3.70307805e-02 -3.44134629e-02  1.59285904e-01\n",
      "  -8.58254103e-02  9.22040563e-02 -1.30656623e-02  1.53179830e-01\n",
      "  -1.61524093e-01 -6.28220773e-02  1.57713086e-02  1.16672055e-01\n",
      "  -1.33120761e-01  5.82471740e-05  1.34296740e-01 -1.47980102e-01]\n",
      " [-1.41507463e-01 -1.59786999e-01  1.44025496e-01 -1.76130073e-01\n",
      "   4.43202215e-02  3.97443395e-02  3.74651718e-02 -1.74552729e-01\n",
      "   7.00546512e-02 -1.04566682e-01 -1.06192219e-03 -1.29436777e-01\n",
      "   1.36827096e-01  7.48475569e-02 -3.24021801e-03 -8.99182755e-02\n",
      "   1.31989381e-01  1.71572484e-02 -1.30727558e-01  1.19404982e-01]\n",
      " [ 2.71130669e-01  2.81934061e-01 -2.67685318e-01  3.02378496e-01\n",
      "  -7.80105096e-02 -5.79790981e-02 -8.42026497e-02  2.77005865e-01\n",
      "  -1.36881912e-01  1.42504039e-01 -2.16415652e-02  2.32680656e-01\n",
      "  -2.46929162e-01 -1.08183768e-01  2.36856989e-02  1.65819191e-01\n",
      "  -2.14252918e-01 -1.37638726e-02  2.20487646e-01 -2.24847501e-01]\n",
      " [ 2.29595954e-01  2.53106268e-01 -2.45865835e-01  2.44225704e-01\n",
      "  -2.94038201e-02 -5.63823877e-02 -7.49973906e-02  2.44474540e-01\n",
      "  -1.50023646e-01  1.23106903e-01 -2.52179858e-02  2.13408204e-01\n",
      "  -2.22877872e-01 -8.40372259e-02  2.33689970e-02  1.37679177e-01\n",
      "  -1.85480095e-01  1.75361841e-03  1.85584114e-01 -1.87080088e-01]\n",
      " [ 4.08247762e-02  4.51705527e-02 -3.29646060e-02  4.10264154e-02\n",
      "  -5.43077865e-03 -1.89394658e-02 -2.21898389e-02  4.64474713e-02\n",
      "  -2.64299942e-02  2.69105106e-02  4.60339051e-03  4.16967469e-02\n",
      "  -2.13052606e-02 -2.45648552e-02  1.32437977e-03  1.56141003e-02\n",
      "  -4.41550347e-02  1.59607999e-02  3.43986320e-02 -6.00483245e-02]\n",
      " [-1.36868930e-01 -1.58587749e-01  1.49807462e-01 -1.45537189e-01\n",
      "   3.79623479e-02  2.80173618e-02  5.27638236e-02 -1.60116546e-01\n",
      "   5.93103211e-02 -7.70908754e-02 -1.47127806e-02 -1.27258199e-01\n",
      "   1.15512426e-01  4.83863178e-02 -2.38376617e-02 -8.34334063e-02\n",
      "   1.14254076e-01  1.05648753e-02 -1.14379977e-01  9.28672875e-02]\n",
      " [-2.60728228e-01 -2.79434748e-01  2.47021448e-01 -2.86059505e-01\n",
      "   4.56138165e-02  6.50719268e-02  8.13417902e-02 -2.75159486e-01\n",
      "   1.36322926e-01 -1.36903729e-01  1.42569126e-02 -2.24656283e-01\n",
      "   2.42548239e-01  9.07201935e-02 -2.12346024e-02 -1.59351000e-01\n",
      "   2.09843736e-01  2.35194563e-03 -2.07474416e-01  2.01869636e-01]\n",
      " [ 1.43086555e-01  1.46630655e-01 -1.62710393e-01  1.73586185e-01\n",
      "  -3.55493726e-02 -4.39220047e-02 -4.66173117e-02  1.54963161e-01\n",
      "  -7.13380886e-02  7.13223016e-02 -2.76606321e-02  1.31982588e-01\n",
      "  -1.53222334e-01 -6.37757906e-02  7.50274802e-03  8.60236439e-02\n",
      "  -1.34167729e-01 -1.91623446e-02  1.10082298e-01 -1.25942869e-01]\n",
      " [ 2.26337367e-01  2.51431543e-01 -2.39420745e-01  2.61919940e-01\n",
      "  -6.10976531e-02 -4.39569331e-02 -7.01995712e-02  2.44633754e-01\n",
      "  -1.27272568e-01  1.19260537e-01 -1.92864553e-02  2.05444061e-01\n",
      "  -2.27379547e-01 -9.61157806e-02  3.60907887e-03  1.45833239e-01\n",
      "  -1.93545919e-01 -4.89445252e-03  1.98165354e-01 -1.78775572e-01]\n",
      " [ 1.57009804e-01  1.55697923e-01 -1.67427061e-01  1.79207712e-01\n",
      "  -3.36511231e-02 -2.87531410e-02 -7.04870721e-02  1.73387943e-01\n",
      "  -8.05639611e-02  6.38078648e-02 -1.28275075e-02  1.28220071e-01\n",
      "  -1.59994486e-01 -6.54090309e-02  6.48289081e-03  9.72257340e-02\n",
      "  -1.39434899e-01 -4.58486148e-03  1.31751654e-01 -1.41111656e-01]]\n",
      "b2 = [[ 0.0007416 ]\n",
      " [ 0.00058926]\n",
      " [ 0.00540799]\n",
      " [ 0.00035989]\n",
      " [ 0.00302158]\n",
      " [-0.00987958]\n",
      " [-0.0111881 ]\n",
      " [ 0.00587539]\n",
      " [ 0.00060609]\n",
      " [ 0.00275365]\n",
      " [ 0.00404794]\n",
      " [-0.0001134 ]\n",
      " [ 0.01040767]\n",
      " [ 0.00056589]\n",
      " [ 0.00137913]\n",
      " [ 0.00187998]\n",
      " [-0.00019601]\n",
      " [ 0.0023007 ]\n",
      " [ 0.00222779]\n",
      " [ 0.00358291]]\n",
      "W3 = [[-0.13778412 -0.48197516  0.46336791 -0.30609534  0.20957764 -1.39703357\n",
      "  -1.32012245  0.9399269   0.03948318  0.72765243  0.47903025 -0.5642509\n",
      "   0.8567539   0.72483013  0.07535329 -0.5131549  -0.9381541   0.42995291\n",
      "   0.72963504  0.46367625]]\n",
      "b3 = [[0.04914929]]\n"
     ]
    }
   ],
   "source": [
    "parameters,costs = model(X_train, Y_train, 20,20, num_iterations=20000,alpha=0.01,lamb=0.7, print_cost=True)\n",
    "print(\"W1 = \" + str(parameters[\"W1\"]))\n",
    "print(\"b1 = \" + str(parameters[\"b1\"]))\n",
    "print(\"W2 = \" + str(parameters[\"W2\"]))\n",
    "print(\"b2 = \" + str(parameters[\"b2\"]))\n",
    "print(\"W3 = \" + str(parameters[\"W3\"]))\n",
    "print(\"b3 = \" + str(parameters[\"b3\"]))"
   ]
  },
  {
   "cell_type": "code",
   "execution_count": 141,
   "metadata": {
    "scrolled": true
   },
   "outputs": [
    {
     "data": {
      "text/plain": [
       "[<matplotlib.lines.Line2D at 0x265078a0470>]"
      ]
     },
     "execution_count": 141,
     "metadata": {},
     "output_type": "execute_result"
    },
    {
     "data": {
      "image/png": "[encoded data removed]",
      "text/plain": [
       "<Figure size 432x288 with 1 Axes>"
      ]
     },
     "metadata": {
      "needs_background": "light"
     },
     "output_type": "display_data"
    }
   ],
   "source": [
    "# plotting cost versus iterations\n",
    "import matplotlib.pyplot as plt\n",
    "plt.plot(costs)"
   ]
  },
  {
   "cell_type": "code",
   "execution_count": 142,
   "metadata": {},
   "outputs": [],
   "source": [
    "# for predicting user input image\n",
    "def predict(parameters, X):\n",
    "    A2, cache = forward_propagation(X,parameters)\n",
    "    predictions = A2    \n",
    "    return predictions"
   ]
  },
  {
   "cell_type": "code",
   "execution_count": 143,
   "metadata": {},
   "outputs": [],
   "source": [
    "predictions1=predict(parameters,X_train)"
   ]
  },
  {
   "cell_type": "code",
   "execution_count": 144,
   "metadata": {},
   "outputs": [
    {
     "name": "stdout",
     "output_type": "stream",
     "text": [
      "Accuracy: 99.844753%\n"
     ]
    }
   ],
   "source": [
    "#printing accuracy \n",
    "print ('Accuracy: %f' % float((np.dot(Y_train,predictions1.T) + np.dot(1-Y_train,1-predictions1.T))/float(Y_train.size)*100) + '%')"
   ]
  },
  {
   "cell_type": "code",
   "execution_count": 195,
   "metadata": {},
   "outputs": [
    {
     "name": "stdout",
     "output_type": "stream",
     "text": [
      "(12288, 1)\n"
     ]
    }
   ],
   "source": [
    "# reading user input image and reshapeing it into (64,64) size\n",
    "img=cv2.imread(\"C:/Users/nagarjun/Desktop/datset/trail(cat)/cat.292.jpg\")\n",
    "resized_image=cv2.resize(img,(64,64))\n",
    "X=np.array(resized_image)\n",
    "X=X.reshape((64*64*3,1))\n",
    "print(X.shape)"
   ]
  },
  {
   "cell_type": "code",
   "execution_count": 196,
   "metadata": {},
   "outputs": [],
   "source": [
    "pred=predict(parameters,X)"
   ]
  },
  {
   "cell_type": "code",
   "execution_count": 197,
   "metadata": {},
   "outputs": [
    {
     "data": {
      "text/plain": [
       "array([[0.01077352]])"
      ]
     },
     "execution_count": 197,
     "metadata": {},
     "output_type": "execute_result"
    }
   ],
   "source": [
    "if pred>0.5:\n",
    "    print(\"It's a cat\")\n",
    "else:\n",
    "    print(\"It's not a cat\")"
   ]
  }
 ],
 "metadata": {
  "kernelspec": {
   "display_name": "Python 3",
   "language": "python",
   "name": "python3"
  },
  "language_info": {
   "codemirror_mode": {
    "name": "ipython",
    "version": 3
   },
   "file_extension": ".py",
   "mimetype": "text/x-python",
   "name": "python",
   "nbconvert_exporter": "python",
   "pygments_lexer": "ipython3",
   "version": "3.6.2"
  }
 },
 "nbformat": 4,
 "nbformat_minor": 4
}
