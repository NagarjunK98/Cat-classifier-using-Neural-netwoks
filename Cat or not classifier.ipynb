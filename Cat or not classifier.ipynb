{
 "cells": [
  {
   "cell_type": "code",
   "execution_count": 1,
   "metadata": {},
   "outputs": [],
   "source": [
    "#imporing necessary libraries\n",
    "import numpy as np\n",
    "import pandas as pd\n",
    "import cv2\n",
    "from sklearn.model_selection import train_test_split"
   ]
  },
  {
   "cell_type": "code",
   "execution_count": 2,
   "metadata": {},
   "outputs": [],
   "source": [
    "#reading input images from folder\n",
    "image_list=[]\n",
    "for i in range(1,500):\n",
    "    img=cv2.imread(\"C:/Users/nagarjun/Desktop/datset/trail(cat)/cat.\"+str(i)+\".jpg\")\n",
    "    resized_image=cv2.resize(img,(64,64))\n",
    "    image_list.append(resized_image)\n",
    "for i in range(1,500):\n",
    "    img=cv2.imread(\"C:/Users/nagarjun/Desktop/datset/trail(dog)/dog.\"+str(i)+\".jpg\")\n",
    "    resized_image=cv2.resize(img,(64,64))\n",
    "    image_list.append(resized_image)"
   ]
  },
  {
   "cell_type": "code",
   "execution_count": 3,
   "metadata": {},
   "outputs": [],
   "source": [
    "#converting list of image date to numpy array\n",
    "X=np.array(image_list)"
   ]
  },
  {
   "cell_type": "code",
   "execution_count": 4,
   "metadata": {},
   "outputs": [],
   "source": [
    "# creating target column that is Y\n",
    "Y=[1 for i in range(0,499)]\n",
    "for i in range(0,499):\n",
    "    Y.append(0)"
   ]
  },
  {
   "cell_type": "code",
   "execution_count": 5,
   "metadata": {},
   "outputs": [],
   "source": [
    "# converting list to numpy array and reshaping \n",
    "Y=np.array(Y)\n",
    "Y=Y.reshape((len(Y),1))"
   ]
  },
  {
   "cell_type": "code",
   "execution_count": 6,
   "metadata": {},
   "outputs": [],
   "source": [
    "#splitting up of input data to train and test data\n",
    "X_train,X_test,Y_train,Y_test=train_test_split(X,Y,test_size=0.1,random_state=43)"
   ]
  },
  {
   "cell_type": "code",
   "execution_count": 7,
   "metadata": {},
   "outputs": [
    {
     "name": "stdout",
     "output_type": "stream",
     "text": [
      "(898, 64, 64, 3)\n",
      "(898, 1)\n",
      "(100, 64, 64, 3)\n",
      "(100, 1)\n"
     ]
    }
   ],
   "source": [
    "#printing shape of train and test data\n",
    "print(X_train.shape)\n",
    "print(Y_train.shape)\n",
    "print(X_test.shape)\n",
    "print(Y_test.shape)"
   ]
  },
  {
   "cell_type": "code",
   "execution_count": 8,
   "metadata": {},
   "outputs": [],
   "source": [
    "# transposing train and test data to fit to the model\n",
    "X_train=X_train.T\n",
    "X_test=X_test.T\n",
    "Y_train=Y_train.T\n",
    "Y_test=Y_test.T"
   ]
  },
  {
   "cell_type": "code",
   "execution_count": 9,
   "metadata": {},
   "outputs": [
    {
     "name": "stdout",
     "output_type": "stream",
     "text": [
      "(3, 64, 64, 898)\n",
      "(1, 898)\n",
      "(3, 64, 64, 100)\n",
      "(1, 100)\n"
     ]
    }
   ],
   "source": [
    "#After transposing the train and test data\n",
    "print(X_train.shape)\n",
    "print(Y_train.shape)\n",
    "print(X_test.shape)\n",
    "print(Y_test.shape)\n"
   ]
  },
  {
   "cell_type": "code",
   "execution_count": 10,
   "metadata": {},
   "outputs": [],
   "source": [
    "# for convent reshaping the image data to a flatten data\n",
    "X_train=X_train.reshape((64*64*3,X_train.shape[3]))\n",
    "X_test=X_test.reshape((64*64*3,X_test.shape[3]))"
   ]
  },
  {
   "cell_type": "code",
   "execution_count": 11,
   "metadata": {},
   "outputs": [
    {
     "name": "stdout",
     "output_type": "stream",
     "text": [
      "(12288, 898)\n",
      "(1, 898)\n",
      "(12288, 100)\n",
      "(1, 100)\n"
     ]
    }
   ],
   "source": [
    "# After flattening of data \n",
    "print(X_train.shape)\n",
    "print(Y_train.shape)\n",
    "print(X_test.shape)\n",
    "print(Y_test.shape)"
   ]
  },
  {
   "cell_type": "code",
   "execution_count": 12,
   "metadata": {},
   "outputs": [],
   "source": [
    "#to standardize the data\n",
    "X_train=X_train/255.\n",
    "X_test=X_test/255."
   ]
  },
  {
   "cell_type": "code",
   "execution_count": 13,
   "metadata": {},
   "outputs": [],
   "source": [
    "# binary classification activation function\n",
    "def sigmoid(z):\n",
    "    a=1/(1+np.exp(-z))\n",
    "    return a"
   ]
  },
  {
   "cell_type": "code",
   "execution_count": 14,
   "metadata": {},
   "outputs": [],
   "source": [
    "# initializeing the input, hidden and , output layers\n",
    "def layer_sizes(X, Y):\n",
    "    n_x = X.shape[0]\n",
    "    n_h1 = 10\n",
    "    n_h2=10\n",
    "    n_y = Y.shape[0] # size of output layer\n",
    "    return (n_x, n_h1,n_h2, n_y)"
   ]
  },
  {
   "cell_type": "code",
   "execution_count": 15,
   "metadata": {},
   "outputs": [
    {
     "name": "stdout",
     "output_type": "stream",
     "text": [
      "The size of the input layer is: n_x = 12288\n",
      "The size of the hidden layer 1 is: n_h = 10\n",
      "The size of the hidden layer 2 is: n_h = 10\n",
      "The size of the output layer is: n_y = 1\n"
     ]
    }
   ],
   "source": [
    "(n_x, n_h1,n_h2, n_y) = layer_sizes(X_train, Y_train)\n",
    "print(\"The size of the input layer is: n_x = \" + str(n_x))\n",
    "print(\"The size of the hidden layer 1 is: n_h = \" + str(n_h1))\n",
    "print(\"The size of the hidden layer 2 is: n_h = \" + str(n_h2))\n",
    "print(\"The size of the output layer is: n_y = \" + str(n_y))"
   ]
  },
  {
   "cell_type": "code",
   "execution_count": 16,
   "metadata": {},
   "outputs": [],
   "source": [
    "# initializing the weights randomly and bias to zero by considering shape of each layer\n",
    "def initialize_parameters(n_x, n_h1,n_h2, n_y):\n",
    "    W1 =np.random.randn(n_h1,n_x)\n",
    "    W1=W1/100\n",
    "    b1 =np.zeros(shape=(n_h1,1))\n",
    "    W2 =np.random.randn(n_h2,n_h1)\n",
    "    W2=W2/100\n",
    "    b2 =np.zeros(shape=(n_h2,1))\n",
    "    W3 = np.random.randn(n_y,n_h2)\n",
    "    W3=W3/100\n",
    "    b3 = np.zeros(shape=(n_y,1))\n",
    "    parameters = {\"W1\": W1,\n",
    "                  \"b1\": b1,\n",
    "                  \"W2\": W2,\n",
    "                  \"b2\": b2,\n",
    "                  \"W3\":W3,\n",
    "                  \"b3\":b3\n",
    "                 }\n",
    "    return parameters"
   ]
  },
  {
   "cell_type": "code",
   "execution_count": 17,
   "metadata": {},
   "outputs": [
    {
     "name": "stdout",
     "output_type": "stream",
     "text": [
      "W1 = [[ 0.02064748 -0.02075724 -0.01992571 ...  0.00306123 -0.00267504\n",
      "  -0.00775572]\n",
      " [-0.00149526  0.01223424 -0.00981205 ... -0.01168336  0.00407487\n",
      "  -0.01018363]\n",
      " [ 0.0063108  -0.00646759 -0.0018477  ...  0.00555968 -0.00537397\n",
      "  -0.00992752]\n",
      " ...\n",
      " [ 0.0058372  -0.02498205 -0.00426737 ... -0.00335041  0.00904825\n",
      "   0.00919729]\n",
      " [ 0.00203307  0.01445225 -0.0125795  ... -0.00955149 -0.00721891\n",
      "  -0.0057923 ]\n",
      " [ 0.00038059  0.00604228 -0.00153943 ...  0.00131001 -0.00603136\n",
      "  -0.0145878 ]]\n",
      "b1 = [[0.]\n",
      " [0.]\n",
      " [0.]\n",
      " [0.]\n",
      " [0.]\n",
      " [0.]\n",
      " [0.]\n",
      " [0.]\n",
      " [0.]\n",
      " [0.]]\n",
      "W2 = [[ 4.88510548e-03 -9.11244721e-03  4.25390784e-03 -3.28272391e-04\n",
      "   7.78935618e-04  1.16836590e-02  9.79646952e-03 -8.26291229e-03\n",
      "   4.02974501e-04  2.66379596e-02]\n",
      " [ 2.24849244e-03 -1.65126018e-03  9.01914282e-03 -7.72929343e-03\n",
      "  -9.60575148e-04 -1.20593806e-02 -9.29889403e-03 -1.00480443e-02\n",
      "   8.38916543e-03 -2.44238108e-03]\n",
      " [-1.23915346e-03 -3.78517071e-03 -1.16353251e-03  9.80678640e-04\n",
      "  -1.32422792e-02  4.26890600e-03 -7.10816716e-04  1.06229177e-02\n",
      "   1.02773156e-02 -1.43788545e-02]\n",
      " [ 7.87806667e-03  7.70002622e-03 -1.27582875e-03  1.51249024e-03\n",
      "   1.29966832e-02 -5.61110615e-03 -7.81943696e-03  1.23850749e-02\n",
      "   9.61648760e-03  1.66687665e-02]\n",
      " [-2.67391925e-02  1.08344594e-02 -4.13855286e-03  8.02287184e-03\n",
      "   1.26641000e-02 -4.60297392e-03  5.33163626e-03 -1.42783401e-02\n",
      "  -5.34666063e-03 -1.14962516e-02]\n",
      " [-9.33024294e-03 -1.82294506e-02 -3.60908699e-03  1.10439855e-02\n",
      "   1.71324334e-03  1.15625329e-02 -6.60106764e-03  5.09908128e-03\n",
      "  -5.25690134e-03 -3.63892472e-03]\n",
      " [ 1.36694346e-02  1.40559281e-02 -5.25450272e-03 -1.32419570e-02\n",
      "  -6.01682575e-03 -4.13253212e-03 -1.13761039e-02  2.87090499e-03\n",
      "  -5.71394706e-03  4.57952703e-03]\n",
      " [ 5.88880980e-03  6.40285266e-05  1.14490547e-02 -5.22989485e-03\n",
      "  -8.93349370e-03 -1.20486487e-02 -1.98589116e-05 -1.49423939e-02\n",
      "   3.83615544e-03 -9.11748568e-03]\n",
      " [-2.16880804e-03  3.89046599e-03  8.32373480e-04  2.23294288e-03\n",
      "  -1.34898401e-03  1.03352719e-03  8.35746037e-03 -1.09354276e-02\n",
      "  -6.05284836e-03  1.59247789e-02]\n",
      " [ 1.14491972e-02 -6.16479322e-03 -7.90388061e-04  7.30773468e-03\n",
      "   4.33466387e-03 -2.35348894e-03 -2.42228510e-03  5.99504549e-03\n",
      "   8.14651896e-03 -1.02922361e-02]]\n",
      "b2 = [[0.]\n",
      " [0.]\n",
      " [0.]\n",
      " [0.]\n",
      " [0.]\n",
      " [0.]\n",
      " [0.]\n",
      " [0.]\n",
      " [0.]\n",
      " [0.]]\n",
      "W3 = [[-0.01643228 -0.00040084  0.01976255  0.00880711  0.01357563 -0.01225865\n",
      "  -0.00272287  0.00844436 -0.0136851  -0.01014309]]\n",
      "b3 = [[0.]]\n",
      "12.324761504627368\n",
      "0.008073911525984953\n",
      "0.0014417617210593574\n"
     ]
    }
   ],
   "source": [
    "parameters =initialize_parameters(X_train.shape[0], 10, 10, Y_train.shape[0])\n",
    "print(\"W1 = \" + str(parameters[\"W1\"]))\n",
    "print(\"b1 = \" + str(parameters[\"b1\"]))\n",
    "print(\"W2 = \" + str(parameters[\"W2\"]))\n",
    "print(\"b2 = \" + str(parameters[\"b2\"]))\n",
    "print(\"W3 = \" + str(parameters[\"W3\"]))\n",
    "print(\"b3 = \" + str(parameters[\"b3\"]))\n",
    "print(np.power(parameters['W1'],2).sum())\n",
    "print(np.power(parameters['W2'],2).sum())\n",
    "print(np.power(parameters['W3'],2).sum())"
   ]
  },
  {
   "cell_type": "code",
   "execution_count": 18,
   "metadata": {},
   "outputs": [
    {
     "name": "stdout",
     "output_type": "stream",
     "text": [
      "W1 = (10, 12288)\n",
      "b1 = (10, 1)\n",
      "W2 = (10, 10)\n",
      "b2 = (10, 1)\n",
      "W3 = (1, 10)\n",
      "b3 = (1, 1)\n"
     ]
    }
   ],
   "source": [
    "#printing shape of weight and bias arrays\n",
    "print(\"W1 = \" + str(parameters[\"W1\"].shape))\n",
    "print(\"b1 = \" + str(parameters[\"b1\"].shape))\n",
    "print(\"W2 = \" + str(parameters[\"W2\"].shape))\n",
    "print(\"b2 = \" + str(parameters[\"b2\"].shape))\n",
    "print(\"W3 = \" + str(parameters[\"W3\"].shape))\n",
    "print(\"b3 = \" + str(parameters[\"b3\"].shape))"
   ]
  },
  {
   "cell_type": "code",
   "execution_count": 19,
   "metadata": {},
   "outputs": [],
   "source": [
    "# forward propagation to compute each layer output and given that as input to next layer\n",
    "def forward_propagation(X, parameters):\n",
    "    W1 = parameters[\"W1\"]\n",
    "    b1 = parameters[\"b1\"]\n",
    "    W2 = parameters[\"W2\"]\n",
    "    b2 = parameters[\"b2\"]\n",
    "    W3 = parameters[\"W3\"]\n",
    "    b3 = parameters[\"b3\"]\n",
    "    Z1 = np.dot(W1,X)+b1\n",
    "    A1 = np.tanh(Z1)\n",
    "    Z2 = np.dot(W2,A1)+b2\n",
    "    A2 = np.tanh(Z2)\n",
    "    Z3=np.dot(W3,A2)+b3\n",
    "    A3=sigmoid(Z3)\n",
    "    cache = {\"Z1\": Z1,\n",
    "             \"A1\": A1,\n",
    "             \"Z2\": Z2,\n",
    "             \"A2\": A2,\n",
    "             \"Z3\":Z3,\n",
    "             \"A3\":A3\n",
    "            }\n",
    "    \n",
    "    return A3, cache"
   ]
  },
  {
   "cell_type": "code",
   "execution_count": 20,
   "metadata": {},
   "outputs": [],
   "source": [
    "A3, cache = forward_propagation(X_train, parameters)"
   ]
  },
  {
   "cell_type": "code",
   "execution_count": 21,
   "metadata": {},
   "outputs": [],
   "source": [
    "# Computing cost by considering last layer output from forward propagation\n",
    "def compute_cost(A3, Y, parameters,lamb):\n",
    "    m = Y.shape[1] \n",
    "    logprobs = np.multiply(np.log(A3),Y)+np.multiply((1-Y),np.log(1-A3))\n",
    "    l2_re=np.power(parameters['W1'],2).sum()+np.power(parameters['W2'],2).sum()+np.power(parameters['W3'],2).sum()\n",
    "    l2_sum=(lamb/(2*m))*l2_re\n",
    "    cost= (-np.sum(logprobs)/m)\n",
    "    cost = float(np.squeeze(cost)) \n",
    "    return cost"
   ]
  },
  {
   "cell_type": "code",
   "execution_count": 22,
   "metadata": {},
   "outputs": [
    {
     "name": "stdout",
     "output_type": "stream",
     "text": [
      "cost =  0.6931443985462437\n"
     ]
    }
   ],
   "source": [
    "cost=compute_cost(A3,Y_train,parameters,0.4)\n",
    "print(\"cost = \",cost)"
   ]
  },
  {
   "cell_type": "code",
   "execution_count": 23,
   "metadata": {},
   "outputs": [],
   "source": [
    "# Backpropagation used to compute gradients of each layers weights and bias\n",
    "def backward_propagation(parameters, cache, X, Y,lamb):\n",
    "\n",
    "    m = X.shape[1]\n",
    "    W1 = parameters['W1']\n",
    "    W2 = parameters['W2']\n",
    "    W3 = parameters['W3']\n",
    "    A1 = cache['A1']\n",
    "    A2 = cache['A2']\n",
    "    A3 = cache['A3']\n",
    "    dZ3=A3-Y\n",
    "    dW3=(1/m)*np.dot(dZ3,A2.T)+((lamb/m)*parameters['W3'].sum())\n",
    "    db3 = (1/m)*np.sum(dZ3,axis=1,keepdims=True) \n",
    "    dZ2 = np.multiply(np.dot(W3.T,dZ3),(1-np.power(A2,2)))\n",
    "    dW2 = (1/m)*np.dot(dZ2,A1.T)+((lamb/m)*parameters['W2'].sum())\n",
    "    db2 = (1/m)*np.sum(dZ2,axis=1,keepdims=True)\n",
    "    dZ1 = np.multiply(np.dot(W2.T,dZ2),(1-np.power(A1,2)))\n",
    "    dW1 = (1/m)*np.dot(dZ1,X.T)+((lamb/m)*parameters['W1'].sum())\n",
    "    db1 = (1/m)*np.sum(dZ1,axis=1,keepdims=True)    \n",
    "    grads = {\"dW1\": dW1,\n",
    "             \"db1\": db1,\n",
    "             \"dW2\": dW2,\n",
    "             \"db2\": db2,\n",
    "             \"dW3\":dW3,\n",
    "             \"db3\":db3\n",
    "            }\n",
    "    \n",
    "    return grads"
   ]
  },
  {
   "cell_type": "code",
   "execution_count": 24,
   "metadata": {},
   "outputs": [
    {
     "name": "stdout",
     "output_type": "stream",
     "text": [
      "dW1 = [[-0.00076232 -0.00076218 -0.00076252 ... -0.00076099 -0.00076108\n",
      "  -0.00076107]\n",
      " [-0.00075975 -0.00076007 -0.00075962 ... -0.00076104 -0.00076103\n",
      "  -0.00076109]\n",
      " [-0.00076157 -0.00076156 -0.00076157 ... -0.00076153 -0.00076154\n",
      "  -0.00076154]\n",
      " ...\n",
      " [-0.0007612  -0.0007613  -0.00076119 ... -0.00076163 -0.0007616\n",
      "  -0.00076158]\n",
      " [-0.00076099 -0.0007612  -0.00076089 ... -0.00076221 -0.00076218\n",
      "  -0.00076219]\n",
      " [-0.00076399 -0.00076358 -0.00076437 ... -0.00076062 -0.00076084\n",
      "  -0.00076057]]\n",
      "db1 = [[-2.65773327e-07]\n",
      " [ 2.39398132e-06]\n",
      " [-1.23623051e-08]\n",
      " [-7.84266882e-07]\n",
      " [-3.83081321e-08]\n",
      " [-3.27756250e-06]\n",
      " [-5.70580997e-07]\n",
      " [ 3.06497662e-07]\n",
      " [-1.14664633e-08]\n",
      " [-1.93949699e-06]]\n",
      "dW2 = [[-1.06555181e-04  9.86913340e-06  7.03221693e-05 -3.09666936e-05\n",
      "   3.50197014e-05 -3.61714842e-06  4.83172381e-05 -4.73919583e-05\n",
      "   6.24036980e-05  4.73862607e-06]\n",
      " [-1.86660271e-06  9.73909299e-07  2.44847917e-06 -2.20267962e-08\n",
      "   1.58737119e-06  6.44862328e-07  1.91174927e-06 -4.22914837e-07\n",
      "   2.25555109e-06  8.48829188e-07]\n",
      " [ 1.29839204e-04 -1.02227785e-05 -8.29248892e-05  3.88593325e-05\n",
      "  -4.04721769e-05  6.03871266e-06 -5.64453125e-05  5.86626287e-05\n",
      "  -7.34174334e-05 -4.05497495e-06]\n",
      " [ 5.82660514e-05 -4.14276586e-06 -3.65274975e-05  1.77282710e-05\n",
      "  -1.76249538e-05  3.10384633e-06 -2.47308471e-05  2.65724718e-05\n",
      "  -3.22943673e-05 -1.39265240e-06]\n",
      " [ 8.94259287e-05 -6.79769670e-06 -5.67256366e-05  2.69396305e-05\n",
      "  -2.76020459e-05  4.37579845e-06 -3.85396495e-05  4.05318305e-05\n",
      "  -5.01806101e-05 -2.57005081e-06]\n",
      " [-7.93137926e-05  7.54235943e-06  5.26519584e-05 -2.29122667e-05\n",
      "   2.63140222e-05 -2.50329516e-06  3.62330731e-05 -3.51640598e-05\n",
      "   4.67493627e-05  3.73675590e-06]\n",
      " [-1.70325789e-05  2.26118567e-06  1.22786189e-05 -4.50063119e-06\n",
      "   6.42815304e-06  2.36467681e-08  8.63325561e-06 -7.22937064e-06\n",
      "   1.09689285e-05  1.41515419e-06]\n",
      " [ 5.59018430e-05 -3.92821884e-06 -3.49940633e-05  1.70518724e-05\n",
      "  -1.68615491e-05  2.98875162e-06 -2.36883931e-05  2.54892611e-05\n",
      "  -3.09286523e-05 -1.30144076e-06]\n",
      " [-8.86337924e-05  8.34156993e-06  5.86937290e-05 -2.56630984e-05\n",
      "   2.92878955e-05 -2.89203823e-06  4.03614875e-05 -3.93510863e-05\n",
      "   5.21074912e-05  4.07146721e-06]\n",
      " [-6.54972555e-05  6.37899526e-06  4.36945737e-05 -1.88230689e-05\n",
      "   2.18975288e-05 -1.95234589e-06  3.01114850e-05 -2.89714629e-05\n",
      "   3.88159669e-05  3.21080922e-06]]\n",
      "db2 = [[-3.72695386e-05]\n",
      " [-9.09042481e-07]\n",
      " [ 4.48225165e-05]\n",
      " [ 1.99783696e-05]\n",
      " [ 3.08298109e-05]\n",
      " [-2.78109917e-05]\n",
      " [-6.17295376e-06]\n",
      " [ 1.91614678e-05]\n",
      " [-3.10363328e-05]\n",
      " [-2.29942921e-05]]\n",
      "dW2 = [[-4.24324992e-05 -7.38116671e-05  2.60022646e-05  4.40067341e-05\n",
      "  -2.11416773e-04  3.82400023e-05  1.49608681e-04 -6.23086995e-05\n",
      "  -5.15268239e-05  8.08061000e-05]]\n",
      "db2 = [[0.00226735]]\n"
     ]
    }
   ],
   "source": [
    "grads = backward_propagation(parameters, cache, X_train, Y_train,lamb=0.3)\n",
    "print (\"dW1 = \"+ str(grads[\"dW1\"]))\n",
    "print (\"db1 = \"+ str(grads[\"db1\"]))\n",
    "print (\"dW2 = \"+ str(grads[\"dW2\"]))\n",
    "print (\"db2 = \"+ str(grads[\"db2\"]))\n",
    "print (\"dW2 = \"+ str(grads[\"dW3\"]))\n",
    "print (\"db2 = \"+ str(grads[\"db3\"]))"
   ]
  },
  {
   "cell_type": "code",
   "execution_count": 25,
   "metadata": {},
   "outputs": [],
   "source": [
    "# Updating the the weights and bias by considering learning rate and gradients\n",
    "def update_parameters(parameters, grads,alpha):\n",
    "    \n",
    "    W1 = parameters['W1']\n",
    "    b1 = parameters['b1']\n",
    "    W2 = parameters['W2']\n",
    "    b2 = parameters['b2']\n",
    "    W3 = parameters['W3']\n",
    "    b3 = parameters['b3']\n",
    "\n",
    "    dW1 = grads['dW1']\n",
    "    db1 = grads['db1']\n",
    "    dW2 = grads['dW2']\n",
    "    db2 = grads['db2']\n",
    "    dW3 = grads['dW3']\n",
    "    db3 = grads['db3']\n",
    " \n",
    "    W1 = W1-alpha*dW1\n",
    "    b1 = b1-alpha*db1\n",
    "    W2 = W2-alpha*dW2\n",
    "    b2 = b2-alpha*db2\n",
    "    W3 = W3-alpha*dW3\n",
    "    b3 = b3-alpha*db3\n",
    "    \n",
    "    parameters = {\"W1\": W1,\n",
    "                  \"b1\": b1,\n",
    "                  \"W2\": W2,\n",
    "                  \"b2\": b2,\n",
    "                  \"W3\":W3,\n",
    "                  \"b3\":b3\n",
    "                 }\n",
    "    \n",
    "    return parameters"
   ]
  },
  {
   "cell_type": "code",
   "execution_count": 26,
   "metadata": {},
   "outputs": [
    {
     "name": "stdout",
     "output_type": "stream",
     "text": [
      "W1 = [[ 0.02064977 -0.02075495 -0.01992342 ...  0.00306351 -0.00267276\n",
      "  -0.00775344]\n",
      " [-0.00149298  0.01223652 -0.00980977 ... -0.01168108  0.00407715\n",
      "  -0.01018135]\n",
      " [ 0.00631309 -0.0064653  -0.00184542 ...  0.00556196 -0.00537169\n",
      "  -0.00992523]\n",
      " ...\n",
      " [ 0.00583949 -0.02497976 -0.00426508 ... -0.00334812  0.00905054\n",
      "   0.00919958]\n",
      " [ 0.00203535  0.01445453 -0.01257722 ... -0.00954921 -0.00721663\n",
      "  -0.00579001]\n",
      " [ 0.00038288  0.00604457 -0.00153714 ...  0.00131229 -0.00602908\n",
      "  -0.01458552]]\n",
      "b1 = [[ 7.97319980e-10]\n",
      " [-7.18194395e-09]\n",
      " [ 3.70869152e-11]\n",
      " [ 2.35280065e-09]\n",
      " [ 1.14924396e-10]\n",
      " [ 9.83268749e-09]\n",
      " [ 1.71174299e-09]\n",
      " [-9.19492986e-10]\n",
      " [ 3.43993898e-11]\n",
      " [ 5.81849096e-09]]\n",
      "W2 = [[ 4.88542515e-03 -9.11247682e-03  4.25369687e-03 -3.28179491e-04\n",
      "   7.78830558e-04  1.16836698e-02  9.79632456e-03 -8.26277011e-03\n",
      "   4.02787289e-04  2.66379454e-02]\n",
      " [ 2.24849804e-03 -1.65126310e-03  9.01913548e-03 -7.72929336e-03\n",
      "  -9.60579910e-04 -1.20593825e-02 -9.29889976e-03 -1.00480430e-02\n",
      "   8.38915866e-03 -2.44238363e-03]\n",
      " [-1.23954298e-03 -3.78514005e-03 -1.16328373e-03  9.80562062e-04\n",
      "  -1.32421578e-02  4.26888788e-03 -7.10647380e-04  1.06227418e-02\n",
      "   1.02775358e-02 -1.43788423e-02]\n",
      " [ 7.87789187e-03  7.70003865e-03 -1.27571916e-03  1.51243706e-03\n",
      "   1.29967361e-02 -5.61111546e-03 -7.81936277e-03  1.23849952e-02\n",
      "   9.61658448e-03  1.66687707e-02]\n",
      " [-2.67394607e-02  1.08344798e-02 -4.13838268e-03  8.02279102e-03\n",
      "   1.26641828e-02 -4.60298705e-03  5.33175188e-03 -1.42784617e-02\n",
      "  -5.34651009e-03 -1.14962439e-02]\n",
      " [-9.33000500e-03 -1.82294733e-02 -3.60924494e-03  1.10440543e-02\n",
      "   1.71316440e-03  1.15625404e-02 -6.60117634e-03  5.09918677e-03\n",
      "  -5.25704159e-03 -3.63893593e-03]\n",
      " [ 1.36694857e-02  1.40559213e-02 -5.25453955e-03 -1.32419435e-02\n",
      "  -6.01684503e-03 -4.13253219e-03 -1.13761298e-02  2.87092667e-03\n",
      "  -5.71397997e-03  4.57952279e-03]\n",
      " [ 5.88864210e-03  6.40403112e-05  1.14491597e-02 -5.22994600e-03\n",
      "  -8.93344312e-03 -1.20486576e-02 -1.97878464e-05 -1.49424704e-02\n",
      "   3.83624822e-03 -9.11748177e-03]\n",
      " [-2.16854213e-03  3.89044096e-03  8.32197399e-04  2.23301987e-03\n",
      "  -1.34907188e-03  1.03353587e-03  8.35733928e-03 -1.09353096e-02\n",
      "  -6.05300469e-03  1.59247667e-02]\n",
      " [ 1.14493937e-02 -6.16481236e-03 -7.90519144e-04  7.30779115e-03\n",
      "   4.33459818e-03 -2.35348308e-03 -2.42237543e-03  5.99513241e-03\n",
      "   8.14640251e-03 -1.02922457e-02]]\n",
      "b2 = [[ 1.11808616e-07]\n",
      " [ 2.72712744e-09]\n",
      " [-1.34467550e-07]\n",
      " [-5.99351087e-08]\n",
      " [-9.24894327e-08]\n",
      " [ 8.34329750e-08]\n",
      " [ 1.85188613e-08]\n",
      " [-5.74844035e-08]\n",
      " [ 9.31089983e-08]\n",
      " [ 6.89828764e-08]]\n"
     ]
    }
   ],
   "source": [
    "parameters = update_parameters(parameters, grads,alpha=0.003)\n",
    "print(\"W1 = \" + str(parameters[\"W1\"]))\n",
    "print(\"b1 = \" + str(parameters[\"b1\"]))\n",
    "print(\"W2 = \" + str(parameters[\"W2\"]))\n",
    "print(\"b2 = \" + str(parameters[\"b2\"]))"
   ]
  },
  {
   "cell_type": "code",
   "execution_count": 29,
   "metadata": {},
   "outputs": [
    {
     "ename": "SyntaxError",
     "evalue": "invalid syntax (<ipython-input-29-95ef9328c428>, line 10)",
     "output_type": "error",
     "traceback": [
      "\u001b[1;36m  File \u001b[1;32m\"<ipython-input-29-95ef9328c428>\"\u001b[1;36m, line \u001b[1;32m10\u001b[0m\n\u001b[1;33m    if i%1000=0:\u001b[0m\n\u001b[1;37m             ^\u001b[0m\n\u001b[1;31mSyntaxError\u001b[0m\u001b[1;31m:\u001b[0m invalid syntax\n"
     ]
    }
   ],
   "source": [
    "# Final model with all function call\n",
    "def model(X, Y, n_h1,n_h2, num_iterations,alpha,lamb, print_cost=False):\n",
    "    parameters =initialize_parameters(X.shape[0],n_h1,n_h2,Y.shape[0])\n",
    "    costs=[]\n",
    "    for i in range(0, num_iterations+1):\n",
    "        A3, cache = forward_propagation(X, parameters)\n",
    "        cost = compute_cost(A3,Y,parameters,lamb)\n",
    "        grads = backward_propagation(parameters, cache, X, Y,lamb)\n",
    "        parameters = update_parameters(parameters, grads,alpha)\n",
    "        if i%1000=0:\n",
    "            costs.append(cost)\n",
    "        if print_cost and i % 100 == 0:\n",
    "            #print (\"Cost after 100 iteration\")\n",
    "            print(\"cost after iteration \"+str(i)+\" is \",cost)\n",
    "    return parameters,costs"
   ]
  },
  {
   "cell_type": "code",
   "execution_count": 30,
   "metadata": {
    "scrolled": false
   },
   "outputs": [
    {
     "name": "stdout",
     "output_type": "stream",
     "text": [
      "cost after iteration 0 is  0.693143099895212\n",
      "cost after iteration 100 is  0.69313685942408\n",
      "cost after iteration 200 is  0.6931309814089048\n",
      "cost after iteration 300 is  0.6931259757060918\n",
      "cost after iteration 400 is  0.6931214259593766\n",
      "cost after iteration 500 is  0.6931170723733001\n",
      "cost after iteration 600 is  0.6931127479775067\n",
      "cost after iteration 700 is  0.6931083402802569\n",
      "cost after iteration 800 is  0.6931037681572575\n",
      "cost after iteration 900 is  0.6930989678157485\n",
      "cost after iteration 1000 is  0.6930938841452338\n",
      "cost after iteration 1100 is  0.6930884652414127\n",
      "cost after iteration 1200 is  0.6930826587697568\n",
      "cost after iteration 1300 is  0.6930764093589417\n",
      "cost after iteration 1400 is  0.693069656524646\n",
      "cost after iteration 1500 is  0.6930623328061456\n",
      "cost after iteration 1600 is  0.6930543619022205\n",
      "cost after iteration 1700 is  0.6930456566490806\n",
      "cost after iteration 1800 is  0.693036116708701\n",
      "cost after iteration 1900 is  0.693025625840939\n",
      "cost after iteration 2000 is  0.6930140486219926\n",
      "cost after iteration 2100 is  0.693001226446891\n",
      "cost after iteration 2200 is  0.6929869726139498\n",
      "cost after iteration 2300 is  0.6929710662314902\n",
      "cost after iteration 2400 is  0.6929532446061595\n",
      "cost after iteration 2500 is  0.6929331936596514\n",
      "cost after iteration 2600 is  0.6929105357645823\n",
      "cost after iteration 2700 is  0.6928848141741332\n",
      "cost after iteration 2800 is  0.6928554729210356\n",
      "cost after iteration 2900 is  0.692821830648219\n",
      "cost after iteration 3000 is  0.6927830462621258\n",
      "cost after iteration 3100 is  0.6927380735066596\n",
      "cost after iteration 3200 is  0.6926856004444321\n",
      "cost after iteration 3300 is  0.6926239682503809\n",
      "cost after iteration 3400 is  0.6925510614263102\n",
      "cost after iteration 3500 is  0.6924641581374356\n",
      "cost after iteration 3600 is  0.6923597242168062\n",
      "cost after iteration 3700 is  0.6922331264768795\n",
      "cost after iteration 3800 is  0.692078228786381\n",
      "cost after iteration 3900 is  0.6918868157307871\n",
      "cost after iteration 4000 is  0.6916477606246939\n",
      "cost after iteration 4100 is  0.6913458132005464\n",
      "cost after iteration 4200 is  0.6909598213151804\n",
      "cost after iteration 4300 is  0.6904601095275354\n",
      "cost after iteration 4400 is  0.6898045988794534\n",
      "cost after iteration 4500 is  0.6889330615056323\n",
      "cost after iteration 4600 is  0.687758724358758\n",
      "cost after iteration 4700 is  0.6861564835136551\n",
      "cost after iteration 4800 is  0.6839476998535259\n",
      "cost after iteration 4900 is  0.6808836584484221\n",
      "cost after iteration 5000 is  0.6766339588515405\n",
      "cost after iteration 5100 is  0.6707902602239832\n",
      "cost after iteration 5200 is  0.6628905732791167\n",
      "cost after iteration 5300 is  0.6524476308152346\n",
      "cost after iteration 5400 is  0.6389597521732943\n",
      "cost after iteration 5500 is  0.6219340346855611\n",
      "cost after iteration 5600 is  0.6009141637528427\n",
      "cost after iteration 5700 is  0.5753479796239069\n",
      "cost after iteration 5800 is  0.5929172795070912\n",
      "cost after iteration 5900 is  0.5789140156110347\n",
      "cost after iteration 6000 is  0.5637908172724166\n",
      "cost after iteration 6100 is  0.5433221687347914\n",
      "cost after iteration 6200 is  0.47815906216469894\n",
      "cost after iteration 6300 is  0.4552233725277164\n",
      "cost after iteration 6400 is  0.4329954358753674\n",
      "cost after iteration 6500 is  0.4108406304482033\n",
      "cost after iteration 6600 is  0.38852536954568295\n",
      "cost after iteration 6700 is  0.5053385796954718\n",
      "cost after iteration 6800 is  0.6021241416962836\n",
      "cost after iteration 6900 is  0.5089588275246683\n",
      "cost after iteration 7000 is  0.3448469034065564\n",
      "cost after iteration 7100 is  0.3393010761231795\n",
      "cost after iteration 7200 is  0.3665790261057631\n",
      "cost after iteration 7300 is  0.7178830708779236\n",
      "cost after iteration 7400 is  0.2862221227449344\n",
      "cost after iteration 7500 is  0.2711072586733586\n",
      "cost after iteration 7600 is  0.333093958460933\n",
      "cost after iteration 7700 is  0.22564449964132624\n",
      "cost after iteration 7800 is  0.26667786894586787\n",
      "cost after iteration 7900 is  0.207680184053602\n",
      "cost after iteration 8000 is  0.21300857005911566\n",
      "cost after iteration 8100 is  0.4193849016812055\n",
      "cost after iteration 8200 is  0.6478138624476287\n",
      "cost after iteration 8300 is  0.2482775974216922\n",
      "cost after iteration 8400 is  0.1523063700632084\n",
      "cost after iteration 8500 is  0.20812570107050854\n",
      "cost after iteration 8600 is  0.174298695309341\n",
      "cost after iteration 8700 is  0.19332662272919157\n",
      "cost after iteration 8800 is  0.13672894359178692\n",
      "cost after iteration 8900 is  0.11205426368938307\n",
      "cost after iteration 9000 is  0.232047848307827\n",
      "cost after iteration 9100 is  0.19135405945731365\n",
      "cost after iteration 9200 is  0.09038315229722704\n",
      "cost after iteration 9300 is  0.087011849241976\n",
      "cost after iteration 9400 is  0.07692551638957494\n",
      "cost after iteration 9500 is  0.09792305177239771\n",
      "cost after iteration 9600 is  0.053239894847530916\n",
      "cost after iteration 9700 is  0.1700506351015374\n",
      "cost after iteration 9800 is  0.039111500211899804\n",
      "cost after iteration 9900 is  0.031439961930110345\n",
      "cost after iteration 10000 is  0.026492559725420285\n",
      "cost after iteration 10100 is  0.023106156259025113\n",
      "cost after iteration 10200 is  0.02052703622414615\n",
      "cost after iteration 10300 is  0.018448966018188146\n",
      "cost after iteration 10400 is  0.016729611093291005\n",
      "cost after iteration 10500 is  0.015283691652456445\n",
      "cost after iteration 10600 is  0.014051696411757372\n",
      "cost after iteration 10700 is  0.012990092000100728\n",
      "cost after iteration 10800 is  0.012066361552102979\n",
      "cost after iteration 10900 is  0.011255757097545421\n",
      "cost after iteration 11000 is  0.010539109620377733\n",
      "cost after iteration 11100 is  0.00990133618932882\n",
      "cost after iteration 11200 is  0.009330402919559671\n",
      "cost after iteration 11300 is  0.008816589709571684\n",
      "cost after iteration 11400 is  0.008351958884146735\n",
      "cost after iteration 11500 is  0.007929964485174093\n",
      "cost after iteration 11600 is  0.007545160444010655\n",
      "cost after iteration 11700 is  0.0071929794913403195\n",
      "cost after iteration 11800 is  0.006869563481252227\n",
      "cost after iteration 11900 is  0.006571631632836669\n",
      "cost after iteration 12000 is  0.006296377112194664\n",
      "cost after iteration 12100 is  0.006041385058980133\n",
      "cost after iteration 12200 is  0.00580456702431195\n",
      "cost after iteration 12300 is  0.005584108099824574\n",
      "cost after iteration 12400 is  0.005378423955702037\n",
      "cost after iteration 12500 is  0.005186125684407616\n",
      "cost after iteration 12600 is  0.005005990844028538\n",
      "cost after iteration 12700 is  0.004836939463409612\n",
      "cost after iteration 12800 is  0.004678014046837573\n",
      "cost after iteration 12900 is  0.004528362824259618\n",
      "cost after iteration 13000 is  0.004387225651729843\n",
      "cost after iteration 13100 is  0.004253922088730009\n",
      "cost after iteration 13200 is  0.004127841273422406\n",
      "cost after iteration 13300 is  0.0040084332904970574\n",
      "cost after iteration 13400 is  0.0038952017840442107\n",
      "cost after iteration 13500 is  0.0037876976135225947\n",
      "cost after iteration 13600 is  0.003685513387186097\n",
      "cost after iteration 13700 is  0.0035882787363820472\n",
      "cost after iteration 13800 is  0.0034956562175408414\n",
      "cost after iteration 13900 is  0.0034073377476600258\n",
      "cost after iteration 14000 is  0.003323041494578214\n",
      "cost after iteration 14100 is  0.003242509156052504\n",
      "cost after iteration 14200 is  0.0031655035721492647\n",
      "cost after iteration 14300 is  0.0030918066241603474\n",
      "cost after iteration 14400 is  0.0030212173804992615\n",
      "cost after iteration 14500 is  0.00295355045607836\n",
      "cost after iteration 14600 is  0.0028886345567279816\n",
      "cost after iteration 14700 is  0.0028263111844615304\n",
      "cost after iteration 14800 is  0.0027664334829533566\n",
      "cost after iteration 14900 is  0.0027088652055928\n",
      "cost after iteration 15000 is  0.0026534797910007825\n",
      "cost after iteration 15100 is  0.0026001595330227977\n",
      "cost after iteration 15200 is  0.0025487948340089475\n",
      "cost after iteration 15300 is  0.002499283531711829\n",
      "cost after iteration 15400 is  0.0024515302914219794\n",
      "cost after iteration 15500 is  0.002405446056055888\n",
      "cost after iteration 15600 is  0.002360947547844869\n",
      "cost after iteration 15700 is  0.0023179568160705756\n",
      "cost after iteration 15800 is  0.002276400825976391\n",
      "cost after iteration 15900 is  0.0022362110845715855\n",
      "cost after iteration 16000 is  0.002197323299551844\n",
      "cost after iteration 16100 is  0.0021596770679984715\n",
      "cost after iteration 16200 is  0.0021232155918989282\n",
      "cost after iteration 16300 is  0.0020878854178629684\n",
      "cost after iteration 16400 is  0.0020536361986979255\n",
      "cost after iteration 16500 is  0.0020204204747601737\n",
      "cost after iteration 16600 is  0.0019881934732221486\n",
      "cost after iteration 16700 is  0.0019569129235904722\n",
      "cost after iteration 16800 is  0.0019265388879832904\n",
      "cost after iteration 16900 is  0.0018970336048279132\n",
      "cost after iteration 17000 is  0.0018683613447753546\n",
      "cost after iteration 17100 is  0.0018404882777484483\n",
      "cost after iteration 17200 is  0.0018133823501474257\n",
      "cost after iteration 17300 is  0.001787013171331866\n",
      "cost after iteration 17400 is  0.0017613519085833713\n",
      "cost after iteration 17500 is  0.0017363711898288302\n",
      "cost after iteration 17600 is  0.001712045013472631\n",
      "cost after iteration 17700 is  0.0016883486647468672\n",
      "cost after iteration 17800 is  0.0016652586380433878\n",
      "cost after iteration 17900 is  0.0016427525647405576\n",
      "cost after iteration 18000 is  0.0016208091460820783\n",
      "cost after iteration 18100 is  0.0015994080907046236\n",
      "cost after iteration 18200 is  0.0015785300564472237\n",
      "cost after iteration 18300 is  0.0015581565961075815\n",
      "cost after iteration 18400 is  0.0015382701068396743\n",
      "cost after iteration 18500 is  0.0015188537829135809\n",
      "cost after iteration 18600 is  0.001499891571582247\n",
      "cost after iteration 18700 is  0.0014813681318215633\n",
      "cost after iteration 18800 is  0.0014632687957300396\n",
      "cost after iteration 18900 is  0.0014455795323916984\n",
      "cost after iteration 19000 is  0.0014282869140225139\n",
      "cost after iteration 19100 is  0.0014113780842350727\n",
      "cost after iteration 19200 is  0.0013948407282697352\n",
      "cost after iteration 19300 is  0.0013786630450526567\n",
      "cost after iteration 19400 is  0.0013628337209522206\n",
      "cost after iteration 19500 is  0.0013473419051155395\n",
      "cost after iteration 19600 is  0.0013321771862759067\n",
      "cost after iteration 19700 is  0.0013173295709305824\n",
      "cost after iteration 19800 is  0.0013027894627960894\n",
      "cost after iteration 19900 is  0.0012885476434550862\n",
      "cost after iteration 20000 is  0.0012745952541155766\n",
      "W1 = [[ 0.00530738  0.0039121   0.01989125 ... -0.00704013  0.00658277\n",
      "   0.00925114]\n",
      " [ 0.01683231  0.0069634  -0.01196316 ... -0.00287726  0.00957642\n",
      "  -0.0014387 ]\n",
      " [ 0.01299251 -0.00617171 -0.00434188 ... -0.00110969 -0.02474895\n",
      "  -0.01620173]\n",
      " ...\n",
      " [ 0.00679305 -0.00525763  0.00043819 ...  0.01907397  0.00478884\n",
      "  -0.00608649]\n",
      " [-0.0011558  -0.00135624  0.00832493 ... -0.01897178 -0.01137939\n",
      "   0.01267085]\n",
      " [ 0.0090271   0.01370196  0.00529241 ...  0.0039912   0.01788648\n",
      "   0.00560504]]\n",
      "b1 = [[ 0.03702098]\n",
      " [ 0.00279673]\n",
      " [-0.02502219]\n",
      " [ 0.00999606]\n",
      " [-0.00976927]\n",
      " [-0.00171155]\n",
      " [-0.00064967]\n",
      " [-0.00388164]\n",
      " [-0.01605851]\n",
      " [ 0.0121582 ]\n",
      " [ 0.01895949]\n",
      " [ 0.02826012]\n",
      " [ 0.00658421]\n",
      " [ 0.00485903]\n",
      " [ 0.04421574]\n",
      " [-0.00173763]\n",
      " [-0.0096592 ]\n",
      " [ 0.00095774]\n",
      " [ 0.01876858]\n",
      " [-0.00057047]]\n",
      "W2 = [[ 6.51164921e-02 -1.17657513e-02 -5.80368885e-02  1.52377662e-02\n",
      "  -4.96691274e-02 -8.94544755e-03 -7.24624240e-03  5.99562589e-02\n",
      "   4.89966068e-02  4.81294751e-02 -3.27220021e-02  3.91731263e-02\n",
      "   2.83758603e-02 -7.06728514e-02  7.83695056e-02 -4.05109063e-02\n",
      "  -1.46027780e-02 -2.94939021e-02  4.47004100e-02 -3.95746793e-02]\n",
      " [-1.72912365e-01  4.56669702e-02  1.68884043e-01 -1.02159596e-01\n",
      "   1.53577743e-01  7.49604861e-02  8.82061408e-02 -1.53268616e-01\n",
      "  -1.74237457e-01 -1.04462322e-01  1.32279975e-01 -1.57084429e-01\n",
      "  -5.61371498e-02  1.25000046e-01 -1.67497601e-01  1.59311454e-01\n",
      "   7.14060657e-02  7.91761292e-02 -1.56887930e-01  7.45311810e-02]\n",
      " [-5.65909183e-02  3.43729190e-04  5.69182397e-02 -1.82546899e-02\n",
      "   3.13851381e-02  5.97547178e-03  1.08133908e-02 -4.70253319e-02\n",
      "  -4.85267463e-02 -1.75793905e-02  2.78596997e-02 -3.56860512e-02\n",
      "  -9.78957202e-03  2.14344297e-02 -3.86699527e-02  4.10487556e-02\n",
      "   2.78336351e-02  2.03352608e-02 -4.05253667e-02  2.99916763e-02]\n",
      " [-2.73947442e-01  2.86558365e-02  2.62942495e-01 -1.36932556e-01\n",
      "   2.45401354e-01  9.27468528e-02  1.60831791e-01 -2.32237420e-01\n",
      "  -2.89267605e-01 -1.83259139e-01  1.69234408e-01 -2.31323033e-01\n",
      "  -8.72623727e-02  2.14694847e-01 -2.61652774e-01  2.39794467e-01\n",
      "   1.26327098e-01  1.29007974e-01 -2.40106081e-01  1.21448008e-01]\n",
      " [-2.31508546e-01  3.82749375e-02  2.15419494e-01 -1.26010848e-01\n",
      "   2.10996384e-01  7.74627335e-02  1.08549648e-01 -1.90740617e-01\n",
      "  -2.19892780e-01 -1.40716752e-01  1.41002219e-01 -1.91918922e-01\n",
      "  -5.80919433e-02  1.78233375e-01 -1.97042448e-01  2.11865050e-01\n",
      "   1.17696699e-01  8.94518078e-02 -1.97886053e-01  1.14369759e-01]\n",
      " [ 1.80954485e-01 -3.70881089e-02 -1.67044566e-01  8.61352990e-02\n",
      "  -1.67373836e-01 -8.10392548e-02 -9.90304789e-02  1.45867807e-01\n",
      "   1.86693978e-01  1.11953573e-01 -1.08307047e-01  1.73720641e-01\n",
      "   6.36507967e-02 -1.44338240e-01  1.58541111e-01 -1.59117320e-01\n",
      "  -8.52314243e-02 -6.83410030e-02  1.54785010e-01 -9.78684926e-02]\n",
      " [ 1.10274350e-01 -4.13537061e-03 -1.06337749e-01  6.39552960e-02\n",
      "  -9.82187900e-02 -3.94790121e-02 -5.47073325e-02  9.95564076e-02\n",
      "   1.07879104e-01  7.09705437e-02 -6.48655751e-02  9.10605467e-02\n",
      "   3.02756061e-02 -8.20449480e-02  1.02463541e-01 -8.58421372e-02\n",
      "  -5.57460409e-02 -3.86524620e-02  9.43552190e-02 -6.29216836e-02]\n",
      " [ 3.39192598e-01 -4.59225849e-02 -3.27827050e-01  1.87820865e-01\n",
      "  -2.91152445e-01 -1.15146268e-01 -1.71036593e-01  2.74401182e-01\n",
      "   3.55154208e-01  2.24532758e-01 -2.14194425e-01  2.85506805e-01\n",
      "   1.02168660e-01 -2.68462450e-01  3.15792076e-01 -3.08722291e-01\n",
      "  -1.49345541e-01 -1.57225251e-01  2.95683177e-01 -1.70241342e-01]\n",
      " [-1.30052013e-01  9.31378322e-03  1.26341118e-01 -5.12584561e-02\n",
      "   1.05985059e-01  5.05317405e-02  5.52626816e-02 -9.35513559e-02\n",
      "  -1.24724831e-01 -8.73699810e-02  7.35070286e-02 -1.01541998e-01\n",
      "  -3.02187979e-02  7.28329037e-02 -1.08719565e-01  9.18311637e-02\n",
      "   5.71355292e-02  7.55596240e-02 -1.03340583e-01  4.35383302e-02]\n",
      " [ 1.36999826e-01 -2.57935676e-02 -1.25728871e-01  6.01803478e-02\n",
      "  -1.45342572e-01 -5.06349583e-02 -6.38762283e-02  1.09239090e-01\n",
      "   1.49900961e-01  8.70500192e-02 -9.10693850e-02  9.41635820e-02\n",
      "   2.36819928e-02 -1.01435026e-01  1.17655524e-01 -1.04354441e-01\n",
      "  -6.63589194e-02 -5.45474768e-02  1.31905689e-01 -5.38473493e-02]\n",
      " [ 2.18297168e-01 -3.08546549e-02 -1.96468979e-01  1.11503496e-01\n",
      "  -1.95509356e-01 -8.37015822e-02 -1.10423918e-01  1.82831537e-01\n",
      "   2.20373974e-01  1.34683543e-01 -1.30719811e-01  1.77119052e-01\n",
      "   7.54700941e-02 -1.62618919e-01  1.85152790e-01 -1.72851824e-01\n",
      "  -1.11030317e-01 -8.83686656e-02  1.97104218e-01 -9.32775392e-02]\n",
      " [ 2.43543783e-02 -7.69650116e-03 -2.45518598e-02  3.66542500e-03\n",
      "  -7.49570534e-03  2.76040416e-03 -2.77245446e-02  1.51243267e-02\n",
      "   2.49422587e-02  2.67493871e-02 -2.53039210e-02  3.24693186e-02\n",
      "   1.41317479e-03 -3.23653542e-02  2.31379459e-02 -2.76721943e-02\n",
      "  -1.61524831e-02 -1.08676110e-02  1.57481644e-02 -1.34135563e-02]\n",
      " [-3.58446462e-01  5.91896720e-02  3.51781973e-01 -1.88010027e-01\n",
      "   3.18181866e-01  1.35701779e-01  1.86608567e-01 -3.02037863e-01\n",
      "  -3.57205652e-01 -2.41226740e-01  2.39300616e-01 -2.99160073e-01\n",
      "  -1.04187064e-01  2.87026920e-01 -3.31093984e-01  3.24305626e-01\n",
      "   1.82159951e-01  1.62912605e-01 -3.32420549e-01  1.76828454e-01]\n",
      " [-2.66628646e-01  5.43050359e-02  2.41899533e-01 -1.14741981e-01\n",
      "   2.29432692e-01  8.97409890e-02  1.22465904e-01 -2.23819154e-01\n",
      "  -2.59415001e-01 -1.84225946e-01  1.59589870e-01 -2.24860555e-01\n",
      "  -9.34484422e-02  2.02692961e-01 -2.39810104e-01  2.33071694e-01\n",
      "   1.21283791e-01  1.14244384e-01 -2.36293153e-01  1.27675295e-01]\n",
      " [ 2.72003743e-01 -2.59421208e-02 -2.61023719e-01  1.45505229e-01\n",
      "  -2.49020354e-01 -1.10692549e-01 -1.45117136e-01  2.15425038e-01\n",
      "   2.65064469e-01  1.78583733e-01 -1.90775633e-01  2.23271981e-01\n",
      "   8.49326615e-02 -2.22871952e-01  2.50525208e-01 -2.43422410e-01\n",
      "  -1.29184467e-01 -1.26036661e-01  2.46303839e-01 -1.18903272e-01]\n",
      " [ 2.23538397e-01 -3.94078686e-02 -2.11321984e-01  1.22525275e-01\n",
      "  -2.08974523e-01 -6.96724612e-02 -1.25114309e-01  1.76308419e-01\n",
      "   2.12780654e-01  1.30735896e-01 -1.54276251e-01  1.96468354e-01\n",
      "   4.99982119e-02 -1.67733136e-01  2.02241158e-01 -1.95344024e-01\n",
      "  -1.12648526e-01 -9.08284012e-02  1.86890364e-01 -1.06265869e-01]\n",
      " [-1.72198547e-01  3.71017144e-02  1.80591904e-01 -9.13182585e-02\n",
      "   1.58444917e-01  7.53727348e-02  7.61695951e-02 -1.41438039e-01\n",
      "  -1.70645936e-01 -1.24620283e-01  1.22457125e-01 -1.49872778e-01\n",
      "  -5.55199076e-02  1.44845099e-01 -1.55063635e-01  1.48043111e-01\n",
      "   9.08559119e-02  6.66868177e-02 -1.64613871e-01  8.93231916e-02]\n",
      " [ 1.75366698e-01 -2.07186216e-02 -1.63348235e-01  1.00490948e-01\n",
      "  -1.41020264e-01 -6.83389797e-02 -8.04234850e-02  1.31902324e-01\n",
      "   1.63588919e-01  1.08183767e-01 -1.14458395e-01  1.35035229e-01\n",
      "   5.25758681e-02 -1.35536772e-01  1.51875495e-01 -1.45568780e-01\n",
      "  -6.93783700e-02 -7.17722763e-02  1.51956562e-01 -6.79133045e-02]\n",
      " [ 1.59716518e-01 -8.63730590e-03 -1.61917947e-01  7.97433556e-02\n",
      "  -1.44716293e-01 -6.45916231e-02 -8.39920023e-02  1.27175017e-01\n",
      "   1.60467725e-01  1.00361813e-01 -1.00601963e-01  1.47721003e-01\n",
      "   4.95839761e-02 -1.19121300e-01  1.20166545e-01 -1.43590264e-01\n",
      "  -8.10005478e-02 -6.89958838e-02  1.50813065e-01 -6.14247307e-02]\n",
      " [-1.33605018e-01  3.29792609e-02  1.22181890e-01 -5.28823001e-02\n",
      "   9.46917827e-02  8.98642632e-03  4.11047762e-02 -9.09273882e-02\n",
      "  -1.18111986e-01 -6.82840486e-02  6.87885349e-02 -9.34019265e-02\n",
      "  -2.42097985e-02  7.56576152e-02 -1.02249589e-01  1.08324993e-01\n",
      "   5.52244005e-02  5.67428566e-02 -1.12182629e-01  6.67374408e-02]]\n",
      "b2 = [[-0.00560878]\n",
      " [ 0.01839912]\n",
      " [ 0.00431078]\n",
      " [ 0.04184697]\n",
      " [ 0.02452775]\n",
      " [-0.01524057]\n",
      " [-0.00916304]\n",
      " [-0.04320645]\n",
      " [ 0.01063918]\n",
      " [-0.01576405]\n",
      " [-0.02368574]\n",
      " [-0.0023968 ]\n",
      " [ 0.05202229]\n",
      " [ 0.02653875]\n",
      " [-0.03223065]\n",
      " [-0.03057429]\n",
      " [ 0.01942756]\n",
      " [-0.01566993]\n",
      " [-0.01650593]\n",
      " [ 0.00876845]]\n",
      "W3 = [[-0.17698941  0.59739151  0.15705576  0.96225318  0.77233229 -0.58636826\n",
      "  -0.33870727 -1.19496064  0.39730408 -0.42308433 -0.69526056 -0.07109101\n",
      "   1.32330702  0.9025187  -0.92482152 -0.72581464  0.59750491 -0.53412215\n",
      "  -0.50775208  0.38394251]]\n",
      "b3 = [[0.11364158]]\n"
     ]
    }
   ],
   "source": [
    "parameters,costs = model(X_train, Y_train, 20,20, num_iterations=20000,alpha=0.01,lamb=0.7, print_cost=True)\n",
    "print(\"W1 = \" + str(parameters[\"W1\"]))\n",
    "print(\"b1 = \" + str(parameters[\"b1\"]))\n",
    "print(\"W2 = \" + str(parameters[\"W2\"]))\n",
    "print(\"b2 = \" + str(parameters[\"b2\"]))\n",
    "print(\"W3 = \" + str(parameters[\"W3\"]))\n",
    "print(\"b3 = \" + str(parameters[\"b3\"]))"
   ]
  },
  {
   "cell_type": "code",
   "execution_count": 31,
   "metadata": {
    "scrolled": true
   },
   "outputs": [
    {
     "data": {
      "text/plain": [
       "[<matplotlib.lines.Line2D at 0x1d5bc1642e8>]"
      ]
     },
     "execution_count": 31,
     "metadata": {},
     "output_type": "execute_result"
    },
    {
     "data": {
      "image/png": "[encoded data removed]",
      "text/plain": [
       "<Figure size 432x288 with 1 Axes>"
      ]
     },
     "metadata": {
      "needs_background": "light"
     },
     "output_type": "display_data"
    }
   ],
   "source": [
    "# plotting cost versus iterations\n",
    "import matplotlib.pyplot as plt\n",
    "plt.plot(costs)"
   ]
  },
  {
   "cell_type": "code",
   "execution_count": 32,
   "metadata": {},
   "outputs": [],
   "source": [
    "# for predicting user input image\n",
    "def predict(parameters, X):\n",
    "    A2, cache = forward_propagation(X,parameters)\n",
    "    predictions = A2    \n",
    "    return predictions"
   ]
  },
  {
   "cell_type": "code",
   "execution_count": 33,
   "metadata": {},
   "outputs": [],
   "source": [
    "predictions1=predict(parameters,X_train)"
   ]
  },
  {
   "cell_type": "code",
   "execution_count": 56,
   "metadata": {},
   "outputs": [
    {
     "name": "stdout",
     "output_type": "stream",
     "text": [
      "Accuracy of training model is: 99.872758%\n"
     ]
    }
   ],
   "source": [
    "#printing accuracy \n",
    "print ('Accuracy of training model is: %f' % float((np.dot(Y_train,predictions1.T) + np.dot(1-Y_train,1-predictions1.T))/float(Y_train.size)*100) + '%')"
   ]
  },
  {
   "cell_type": "code",
   "execution_count": 57,
   "metadata": {},
   "outputs": [
    {
     "name": "stdout",
     "output_type": "stream",
     "text": [
      "(12288, 1)\n"
     ]
    }
   ],
   "source": [
    "# reading user input image and reshapeing it into (64,64) size\n",
    "img=cv2.imread(\"C:/Users/nagarjun/Desktop/datset/trail(cat)/cat.22.jpg\")\n",
    "resized_image=cv2.resize(img,(64,64))\n",
    "X=np.array(resized_image)\n",
    "X=X.reshape((64*64*3,1))\n",
    "print(X.shape)"
   ]
  },
  {
   "cell_type": "code",
   "execution_count": 58,
   "metadata": {},
   "outputs": [
    {
     "data": {
      "text/plain": [
       "array([[0.8320726]])"
      ]
     },
     "execution_count": 58,
     "metadata": {},
     "output_type": "execute_result"
    }
   ],
   "source": [
    "pred=predict(parameters,X)\n",
    "pred"
   ]
  },
  {
   "cell_type": "code",
   "execution_count": 59,
   "metadata": {},
   "outputs": [
    {
     "name": "stdout",
     "output_type": "stream",
     "text": [
      "It's a cat\n"
     ]
    }
   ],
   "source": [
    "if pred>0.5:\n",
    "    print(\"It's a cat\")\n",
    "else:\n",
    "    print(\"It's  not a cat\")"
   ]
  }
 ],
 "metadata": {
  "kernelspec": {
   "display_name": "Python 3",
   "language": "python",
   "name": "python3"
  },
  "language_info": {
   "codemirror_mode": {
    "name": "ipython",
    "version": 3
   },
   "file_extension": ".py",
   "mimetype": "text/x-python",
   "name": "python",
   "nbconvert_exporter": "python",
   "pygments_lexer": "ipython3",
   "version": "3.6.2"
  }
 },
 "nbformat": 4,
 "nbformat_minor": 4
}
